{
 "cells": [
  {
   "cell_type": "markdown",
   "id": "32f8484d-2e35-472a-9b24-1a30ec1d144b",
   "metadata": {},
   "source": [
    "<!-- TABS -->\n",
    "# Connect to superduper"
   ]
  },
  {
   "cell_type": "markdown",
   "id": "06d66021-ce62-4021-a2c5-158dee92b3bb",
   "metadata": {},
   "source": [
    ":::note\n",
    "Note that this is only relevant if you are running superduper in development mode.\n",
    "Otherwise refer to \"Configuring your production system\".\n",
    ":::"
   ]
  },
  {
   "cell_type": "code",
   "execution_count": null,
   "id": "61976f44-8139-41c0-a73e-569c6d16c4b1",
   "metadata": {},
   "outputs": [],
   "source": [
    "# <tab: MongoDB>\n",
    "from superduper import superduper\n",
    "\n",
    "db = superduper('mongodb://localhost:27017/documents')"
   ]
  },
  {
   "cell_type": "code",
   "execution_count": null,
   "id": "e981a457",
   "metadata": {},
   "outputs": [],
   "source": [
    "# <tab: SQLite>\n",
    "from superduper import superduper\n",
    "db = superduper('sqlite://my_db.db')"
   ]
  },
  {
   "cell_type": "code",
   "execution_count": null,
   "id": "19ecf7c0-b730-4503-9b5d-e97697b3bcee",
   "metadata": {},
   "outputs": [],
   "source": [
    "# <tab: MySQL>\n",
    "from superduper import superduper\n",
    "\n",
    "user = 'superduper'\n",
    "password = 'superduper'\n",
    "port = 3306\n",
    "host = 'localhost'\n",
    "database = 'test_db'\n",
    "\n",
    "db = superduper(f\"mysql://{user}:{password}@{host}:{port}/{database}\")"
   ]
  },
  {
   "cell_type": "code",
   "execution_count": null,
   "id": "df208e8c-4fd0-438f-af29-22a763a2aebd",
   "metadata": {},
   "outputs": [],
   "source": [
    "# <tab: Oracle>\n",
    "from superduper import superduper\n",
    "\n",
    "user = 'sa'\n",
    "password = 'Superduper#1'\n",
    "port = 1433\n",
    "host = 'localhost'\n",
    "\n",
    "db = superduper(f\"mssql://{user}:{password}@{host}:{port}\")"
   ]
  },
  {
   "cell_type": "code",
   "execution_count": null,
   "id": "d2297295",
   "metadata": {},
   "outputs": [],
   "source": [
    "# <tab: PostgreSQL>\n",
    "!pip install psycopg2\n",
    "from superduper import superduper\n",
    "\n",
    "user = 'postgres'\n",
    "password = 'postgres'\n",
    "port = 5432\n",
    "host = 'localhost'\n",
    "database = 'test_db'\n",
    "db_uri = f\"postgres://{user}:{password}@{host}:{port}/{database}\"\n",
    "\n",
    "db = superduper(db_uri, metadata_store=db_uri.replace('postgres://', 'postgresql://'))"
   ]
  },
  {
   "cell_type": "code",
   "execution_count": null,
   "id": "cc6c8517",
   "metadata": {},
   "outputs": [],
   "source": [
    "# <tab: Snowflake>\n",
    "from superduper import superduper\n",
    "\n",
    "user = \"superduperuser\"\n",
    "password = \"superduperpassword\"\n",
    "account = \"XXXX-XXXX\"  # ORGANIZATIONID-USERID\n",
    "database = \"FREE_COMPANY_DATASET/PUBLIC\"\n",
    "\n",
    "snowflake_uri = f\"snowflake://{user}:{password}@{account}/{database}\"\n",
    "\n",
    "db = superduper(\n",
    "    snowflake_uri, \n",
    "    metadata_store='sqlite:///your_database_name.db',\n",
    ")"
   ]
  },
  {
   "cell_type": "code",
   "execution_count": null,
   "id": "05da45e3-d9e4-49ca-b9ee-db1b8bf4eb44",
   "metadata": {},
   "outputs": [],
   "source": [
    "# <tab: Clickhouse>\n",
    "from superduper import superduper\n",
    "\n",
    "user = 'default'\n",
    "password = ''\n",
    "port = 8123\n",
    "host = 'localhost'\n",
    "\n",
    "db = superduper(f\"clickhouse://{user}:{password}@{host}:{port}\", metadata_store=f'mongomock://meta')"
   ]
  },
  {
   "cell_type": "code",
   "execution_count": null,
   "id": "0e89c8dd-d845-423a-9acc-97e3360d370c",
   "metadata": {},
   "outputs": [],
   "source": [
    "# <tab: DuckDB>\n",
    "from superduper import superduper\n",
    "\n",
    "db = superduper('duckdb://mydb.duckdb')"
   ]
  },
  {
   "cell_type": "code",
   "execution_count": null,
   "id": "2de71562",
   "metadata": {},
   "outputs": [],
   "source": [
    "# <tab: Pandas>\n",
    "from superduper import superduper\n",
    "\n",
    "db = superduper(['my.csv'], metadata_store=f'mongomock://meta')"
   ]
  },
  {
   "cell_type": "code",
   "execution_count": null,
   "id": "cb029a5e-fedf-4f07-8a31-d220cfbfbb3d",
   "metadata": {},
   "outputs": [],
   "source": [
    "# <tab: MongoMock>\n",
    "from superduper import superduper\n",
    "\n",
    "db = superduper('mongomock:///test_db')"
   ]
  },
  {
   "cell_type": "code",
   "execution_count": null,
   "id": "8b41f2d7",
   "metadata": {},
   "outputs": [],
   "source": [
    "# <testing: >\n",
    "import pandas as pd\n",
    "data = [{'A': 10, 'B': 20, 'C':30}, {'x':100, 'y': 200, 'z': 300}]\n",
    "df = pd.DataFrame(data=data)\n",
    "df.to_csv('my.csv')"
   ]
  }
 ],
 "metadata": {
  "kernelspec": {
   "display_name": "Python 3 (ipykernel)",
   "language": "python",
   "name": "python3"
  },
  "language_info": {
   "codemirror_mode": {
    "name": "ipython",
    "version": 3
   },
   "file_extension": ".py",
   "mimetype": "text/x-python",
   "name": "python",
   "nbconvert_exporter": "python",
   "pygments_lexer": "ipython3",
   "version": "3.10.7"
  }
 },
 "nbformat": 4,
 "nbformat_minor": 5
}
