{
 "cells": [
  {
   "cell_type": "markdown",
   "id": "2ca02914-dac0-42ac-ac90-d1ebe87e6774",
   "metadata": {},
   "source": [
    "# Basic RAG tutorial with templates"
   ]
  },
  {
   "cell_type": "markdown",
   "id": "a8ace1e3-1b4f-4c73-9a95-ae6116373a57",
   "metadata": {},
   "source": [
    ":::info\n",
    "In this tutorial we show you how to do retrieval augmented generation (RAG) with `superduper`.\n",
    "Note that this is just an example of the flexibility and power which `superduper` gives \n",
    "to developers. `superduper` is about much more than RAG and LLMs. \n",
    ":::"
   ]
  },
  {
   "cell_type": "markdown",
   "id": "bed5486d-133d-468f-befa-014f81ffbc94",
   "metadata": {},
   "source": [
    "As in the vector-search tutorial we'll use `superduper` documentation for the tutorial.\n",
    "We'll add this to a testing database by downloading the data snapshot:"
   ]
  },
  {
   "cell_type": "code",
   "execution_count": null,
   "id": "693f2a31-e443-499a-88a5-55f4d26de446",
   "metadata": {},
   "outputs": [],
   "source": [
    "!curl -O https://superduper-public-demo.s3.amazonaws.com/text.json"
   ]
  },
  {
   "cell_type": "code",
   "execution_count": 4,
   "id": "296ae5f2-32a9-4f80-aeb7-44e82baf749b",
   "metadata": {},
   "outputs": [
    {
     "name": "stdout",
     "output_type": "stream",
     "text": [
      "2024-Jun-17 09:11:37.77| INFO     | Duncans-MBP.fritz.box| superduper.base.build:71   | Data Client is ready. mongomock.MongoClient('localhost', 27017)\n",
      "2024-Jun-17 09:11:37.77| INFO     | Duncans-MBP.fritz.box| superduper.base.build:44   | Connecting to Metadata Client with engine:  mongomock.MongoClient('localhost', 27017)\n",
      "2024-Jun-17 09:11:37.77| INFO     | Duncans-MBP.fritz.box| superduper.base.build:162  | Connecting to compute client: None\n",
      "2024-Jun-17 09:11:37.77| INFO     | Duncans-MBP.fritz.box| superduper.base.datalayer:86   | Building Data Layer\n",
      "2024-Jun-17 09:11:37.77| INFO     | Duncans-MBP.fritz.box| superduper.base.build:227  | Configuration: \n",
      " +---------------+------------------+\n",
      "| Configuration |      Value       |\n",
      "+---------------+------------------+\n",
      "|  Data Backend | mongomock://test |\n",
      "+---------------+------------------+\n",
      "2024-Jun-17 09:11:37.86| INFO     | Duncans-MBP.fritz.box| superduper.backends.mongodb.data_backend:194  | Table docu does not exist, auto creating...\n",
      "2024-Jun-17 09:11:37.92| INFO     | Duncans-MBP.fritz.box| superduper.backends.local.compute:42   | Submitting job. function:<function callable_job at 0x10c0a13a0>\n",
      "2024-Jun-17 09:11:37.93| SUCCESS  | Duncans-MBP.fritz.box| superduper.backends.local.compute:48   | Job submitted on <superduper.backends.local.compute.LocalComputeBackend object at 0x28779e4d0>.  function:<function callable_job at 0x10c0a13a0> future:659ca8ad-e5cc-4b60-83b6-fae40ed3a3c5\n"
     ]
    }
   ],
   "source": [
    "import json\n",
    "\n",
    "from superduper import superduper, Document\n",
    "\n",
    "db = superduper('mongomock://test')\n",
    "\n",
    "with open('text.json') as f:\n",
    "    data = json.load(f)\n",
    "\n",
    "_ = db['docu'].insert_many([{'txt': r} for r in data]).execute()"
   ]
  },
  {
   "cell_type": "markdown",
   "id": "0fe6ccbe-e12d-4d89-8559-6875d047b593",
   "metadata": {},
   "source": [
    "Let's verify the data in the `db` by querying one datapoint:"
   ]
  },
  {
   "cell_type": "code",
   "execution_count": 5,
   "id": "2c97c8eb-5ffe-4fe6-87fd-26c9853b3a9b",
   "metadata": {},
   "outputs": [
    {
     "data": {
      "text/plain": [
       "Document({'txt': \"---\\nsidebar_position: 5\\n---\\n\\n# Encoding data\\n\\nIn AI, typical types of data are:\\n\\n- **Numbers** (integers, floats, etc.)\\n- **Text**\\n- **Images**\\n- **Audio**\\n- **Videos**\\n- **...bespoke in house data**\\n\\nMost databases don't support any data other than numbers and text.\\n enables the use of these more interesting data-types using the `Document` wrapper.\\n\\n### `Document`\\n\\nThe `Document` wrapper, wraps dictionaries, and is the container which is used whenever \\ndata is exchanged with your database. That means inputs, and queries, wrap dictionaries \\nused with `Document` and also results are returned wrapped with `Document`.\\n\\nWhenever the `Document` contains data which is in need of specialized serialization,\\nthen the `Document` instance contains calls to `DataType` instances.\\n\\n### `DataType`\\n\\nThe [`DataType` class](../apply_api/datatype), allows users to create and encoder custom datatypes, by providing \\ntheir own encoder/decoder pairs.\\n\\nHere is an example of applying an `DataType` to add an image to a `Document`:\\n\\n```python\\nimport pickle\\nimport PIL.Image\\nfrom superduper import DataType, Document\\n\\nimage = PIL.Image.open('my_image.jpg')\\n\\nmy_image_encoder = DataType(\\n    identifier='my-pil',\\n    encoder=lambda x: pickle.dumps(x),\\n    decoder=lambda x: pickle.loads(x),\\n)\\n\\ndocument = Document({'img': my_image_encoder(image)})\\n```\\n\\nThe bare-bones dictionary may be exposed with `.unpack()`:\\n\\n```python\\n>>> document.unpack()\\n{'img': <PIL.PngImagePlugin.PngImageFile image mode=P size=400x300>}\\n```\\n\\nBy default, data encoded with `DataType` is saved in the database, but developers \\nmay alternatively save data in the `db.artifact_store` instead. \\n\\nThis may be achiever by specifying the `encodable=...` parameter:\\n\\n```python\\nmy_image_encoder = DataType(\\n    identifier='my-pil',\\n    encoder=lambda x: pickle.dumps(x),\\n    decoder=lambda x: pickle.loads(x),\\n    encodable='artifact',    # saves to disk/ db.artifact_store\\n    # encodable='lazy_artifact', # Just in time loading\\n)\\n```\\n\\nThe `encodable` specifies the type of the output of the `__call__` method, \\nwhich will be a subclass of `superduper.components.datatype._BaseEncodable`.\\nThese encodables become leaves in the tree defines by a `Document`.\\n\\n### `Schema`\\n\\nA `Schema` allows developers to connect named fields of dictionaries \\nor columns of `pandas.DataFrame` objects with `DataType` instances.\\n\\nA `Schema` is used, in particular, for SQL databases/ tables, and for \\nmodels that return multiple outputs.\\n\\nHere is an example `Schema`, which is used together with text and image \\nfields:\\n\\n```python\\ns = Schema('my-schema', fields={'my-text': 'str', 'my-image': my_image_encoder})\\n```\\n\", '_fold': 'train', '_id': ObjectId('666fe1a9ce173db075a337e1')})"
      ]
     },
     "execution_count": 5,
     "metadata": {},
     "output_type": "execute_result"
    }
   ],
   "source": [
    "db['docu'].find_one().execute()"
   ]
  },
  {
   "cell_type": "markdown",
   "id": "aad947dd-e848-42f3-93b3-7697a8816ed2",
   "metadata": {},
   "source": [
    "The first step in a RAG application is to create a `VectorIndex`. The results of searching \n",
    "with this index will be used as input to the LLM for answering questions.\n",
    "\n",
    "Read about `VectorIndex` [here](../apply_api/vector_index.md) and follow along the tutorial on \n",
    "vector-search [here](./vector_search.md)."
   ]
  },
  {
   "cell_type": "code",
   "execution_count": 7,
   "id": "1f443ee6-3ff4-4b24-9767-4d295ea1bc1c",
   "metadata": {},
   "outputs": [
    {
     "name": "stdout",
     "output_type": "stream",
     "text": [
      "2024-Jun-17 09:11:48.66| INFO     | Duncans-MBP.fritz.box| superduper.base.code:33   | Created code object:\n",
      "from superduper import code\n",
      "\n",
      "@code\n",
      "def postprocess(x):\n",
      "    return x.tolist()\n",
      "\n"
     ]
    },
    {
     "name": "stderr",
     "output_type": "stream",
     "text": [
      "/Users/dodo/.pyenv/versions/3.11.7/envs/superduper-3.11/lib/python3.11/site-packages/huggingface_hub/file_download.py:1132: FutureWarning: `resume_download` is deprecated and will be removed in version 1.0.0. Downloads always resume when possible. If you want to force a new download, use `force_download=True`.\n",
      "  warnings.warn(\n"
     ]
    },
    {
     "name": "stdout",
     "output_type": "stream",
     "text": [
      "2024-Jun-17 09:11:50.56| INFO     | Duncans-MBP.fritz.box| superduper.base.document:362  | Building leaf <class 'superduper.components.listener.Listener'> with identifier: my-listener\n",
      "2024-Jun-17 09:11:50.56| INFO     | Duncans-MBP.fritz.box| superduper.base.document:362  | Building leaf <class 'superduper.ext.sentence_transformers.model.SentenceTransformer'> with identifier: my-embedding\n",
      "2024-Jun-17 09:11:50.56| INFO     | Duncans-MBP.fritz.box| superduper.base.document:362  | Building leaf <class 'superduper.backends.mongodb.query.MongoQuery'> with identifier: docu-find\n",
      "2024-Jun-17 09:11:50.56| INFO     | Duncans-MBP.fritz.box| superduper.base.document:362  | Building leaf <class 'superduper.components.datatype.DataType'> with identifier: my-vec\n",
      "2024-Jun-17 09:11:50.56| INFO     | Duncans-MBP.fritz.box| superduper.base.document:362  | Building leaf <class 'superduper.base.code.Code'> with identifier: postprocess\n"
     ]
    },
    {
     "name": "stderr",
     "output_type": "stream",
     "text": [
      "/Users/dodo/.pyenv/versions/3.11.7/envs/superduper-3.11/lib/python3.11/site-packages/huggingface_hub/file_download.py:1132: FutureWarning: `resume_download` is deprecated and will be removed in version 1.0.0. Downloads always resume when possible. If you want to force a new download, use `force_download=True`.\n",
      "  warnings.warn(\n"
     ]
    },
    {
     "name": "stdout",
     "output_type": "stream",
     "text": [
      "2024-Jun-17 09:11:51.64| INFO     | Duncans-MBP.fritz.box| superduper.backends.local.compute:42   | Submitting job. function:<function method_job at 0x10c0a1440>\n"
     ]
    },
    {
     "name": "stderr",
     "output_type": "stream",
     "text": [
      "210it [00:00, 118101.88it/s]"
     ]
    },
    {
     "name": "stdout",
     "output_type": "stream",
     "text": [
      "2024-Jun-17 09:11:52.72| INFO     | Duncans-MBP.fritz.box| superduper.components.model:752  | Computing chunk 0/4\n"
     ]
    },
    {
     "name": "stderr",
     "output_type": "stream",
     "text": [
      "\n"
     ]
    },
    {
     "data": {
      "application/vnd.jupyter.widget-view+json": {
       "model_id": "177a7f8df10d4328a94a3cbd06c1998a",
       "version_major": 2,
       "version_minor": 0
      },
      "text/plain": [
       "Batches:   0%|          | 0/2 [00:00<?, ?it/s]"
      ]
     },
     "metadata": {},
     "output_type": "display_data"
    },
    {
     "name": "stdout",
     "output_type": "stream",
     "text": [
      "2024-Jun-17 09:11:53.31| INFO     | Duncans-MBP.fritz.box| superduper.components.model:778  | Adding 50 model outputs to `db`\n",
      "2024-Jun-17 09:11:53.31| INFO     | Duncans-MBP.fritz.box| superduper.base.document:362  | Building leaf <class 'superduper.components.datatype.Native'> with identifier: \n",
      "2024-Jun-17 09:11:53.31| INFO     | Duncans-MBP.fritz.box| superduper.base.document:362  | Building leaf <class 'superduper.components.datatype.DataType'> with identifier: my-vec\n",
      "2024-Jun-17 09:11:53.31| INFO     | Duncans-MBP.fritz.box| superduper.base.document:362  | Building leaf <class 'superduper.components.datatype.Native'> with identifier: \n",
      "2024-Jun-17 09:11:53.32| INFO     | Duncans-MBP.fritz.box| superduper.base.document:362  | Building leaf <class 'superduper.components.datatype.DataType'> with identifier: my-vec\n",
      "2024-Jun-17 09:11:53.32| INFO     | Duncans-MBP.fritz.box| superduper.base.document:362  | Building leaf <class 'superduper.components.datatype.Native'> with identifier: \n",
      "2024-Jun-17 09:11:53.32| INFO     | Duncans-MBP.fritz.box| superduper.base.document:362  | Building leaf <class 'superduper.components.datatype.DataType'> with identifier: my-vec\n",
      "2024-Jun-17 09:11:53.32| INFO     | Duncans-MBP.fritz.box| superduper.base.document:362  | Building leaf <class 'superduper.components.datatype.Native'> with identifier: \n",
      "2024-Jun-17 09:11:53.32| INFO     | Duncans-MBP.fritz.box| superduper.base.document:362  | Building leaf <class 'superduper.components.datatype.DataType'> with identifier: my-vec\n",
      "2024-Jun-17 09:11:53.32| INFO     | Duncans-MBP.fritz.box| superduper.base.document:362  | Building leaf <class 'superduper.components.datatype.Native'> with identifier: \n",
      "2024-Jun-17 09:11:53.32| INFO     | Duncans-MBP.fritz.box| superduper.base.document:362  | Building leaf <class 'superduper.components.datatype.DataType'> with identifier: my-vec\n",
      "2024-Jun-17 09:11:53.32| INFO     | Duncans-MBP.fritz.box| superduper.base.document:362  | Building leaf <class 'superduper.components.datatype.Native'> with identifier: \n",
      "2024-Jun-17 09:11:53.32| INFO     | Duncans-MBP.fritz.box| superduper.base.document:362  | Building leaf <class 'superduper.components.datatype.DataType'> with identifier: my-vec\n",
      "2024-Jun-17 09:11:53.32| INFO     | Duncans-MBP.fritz.box| superduper.base.document:362  | Building leaf <class 'superduper.components.datatype.Native'> with identifier: \n",
      "2024-Jun-17 09:11:53.32| INFO     | Duncans-MBP.fritz.box| superduper.base.document:362  | Building leaf <class 'superduper.components.datatype.DataType'> with identifier: my-vec\n",
      "2024-Jun-17 09:11:53.32| INFO     | Duncans-MBP.fritz.box| superduper.base.document:362  | Building leaf <class 'superduper.components.datatype.Native'> with identifier: \n",
      "2024-Jun-17 09:11:53.32| INFO     | Duncans-MBP.fritz.box| superduper.base.document:362  | Building leaf <class 'superduper.components.datatype.DataType'> with identifier: my-vec\n",
      "2024-Jun-17 09:11:53.32| INFO     | Duncans-MBP.fritz.box| superduper.base.document:362  | Building leaf <class 'superduper.components.datatype.Native'> with identifier: \n",
      "2024-Jun-17 09:11:53.32| INFO     | Duncans-MBP.fritz.box| superduper.base.document:362  | Building leaf <class 'superduper.components.datatype.DataType'> with identifier: my-vec\n",
      "2024-Jun-17 09:11:53.32| INFO     | Duncans-MBP.fritz.box| superduper.base.document:362  | Building leaf <class 'superduper.components.datatype.Native'> with identifier: \n",
      "2024-Jun-17 09:11:53.32| INFO     | Duncans-MBP.fritz.box| superduper.base.document:362  | Building leaf <class 'superduper.components.datatype.DataType'> with identifier: my-vec\n",
      "2024-Jun-17 09:11:53.32| INFO     | Duncans-MBP.fritz.box| superduper.base.document:362  | Building leaf <class 'superduper.components.datatype.Native'> with identifier: \n",
      "2024-Jun-17 09:11:53.32| INFO     | Duncans-MBP.fritz.box| superduper.base.document:362  | Building leaf <class 'superduper.components.datatype.DataType'> with identifier: my-vec\n",
      "2024-Jun-17 09:11:53.32| INFO     | Duncans-MBP.fritz.box| superduper.base.document:362  | Building leaf <class 'superduper.components.datatype.Native'> with identifier: \n",
      "2024-Jun-17 09:11:53.32| INFO     | Duncans-MBP.fritz.box| superduper.base.document:362  | Building leaf <class 'superduper.components.datatype.DataType'> with identifier: my-vec\n",
      "2024-Jun-17 09:11:53.32| INFO     | Duncans-MBP.fritz.box| superduper.base.document:362  | Building leaf <class 'superduper.components.datatype.Native'> with identifier: \n",
      "2024-Jun-17 09:11:53.32| INFO     | Duncans-MBP.fritz.box| superduper.base.document:362  | Building leaf <class 'superduper.components.datatype.DataType'> with identifier: my-vec\n",
      "2024-Jun-17 09:11:53.32| INFO     | Duncans-MBP.fritz.box| superduper.base.document:362  | Building leaf <class 'superduper.components.datatype.Native'> with identifier: \n",
      "2024-Jun-17 09:11:53.32| INFO     | Duncans-MBP.fritz.box| superduper.base.document:362  | Building leaf <class 'superduper.components.datatype.DataType'> with identifier: my-vec\n",
      "2024-Jun-17 09:11:53.32| INFO     | Duncans-MBP.fritz.box| superduper.base.document:362  | Building leaf <class 'superduper.components.datatype.Native'> with identifier: \n",
      "2024-Jun-17 09:11:53.32| INFO     | Duncans-MBP.fritz.box| superduper.base.document:362  | Building leaf <class 'superduper.components.datatype.DataType'> with identifier: my-vec\n",
      "2024-Jun-17 09:11:53.32| INFO     | Duncans-MBP.fritz.box| superduper.base.document:362  | Building leaf <class 'superduper.components.datatype.Native'> with identifier: \n",
      "2024-Jun-17 09:11:53.32| INFO     | Duncans-MBP.fritz.box| superduper.base.document:362  | Building leaf <class 'superduper.components.datatype.DataType'> with identifier: my-vec\n",
      "2024-Jun-17 09:11:53.32| INFO     | Duncans-MBP.fritz.box| superduper.base.document:362  | Building leaf <class 'superduper.components.datatype.Native'> with identifier: \n",
      "2024-Jun-17 09:11:53.32| INFO     | Duncans-MBP.fritz.box| superduper.base.document:362  | Building leaf <class 'superduper.components.datatype.DataType'> with identifier: my-vec\n",
      "2024-Jun-17 09:11:53.32| INFO     | Duncans-MBP.fritz.box| superduper.base.document:362  | Building leaf <class 'superduper.components.datatype.Native'> with identifier: \n",
      "2024-Jun-17 09:11:53.32| INFO     | Duncans-MBP.fritz.box| superduper.base.document:362  | Building leaf <class 'superduper.components.datatype.DataType'> with identifier: my-vec\n",
      "2024-Jun-17 09:11:53.32| INFO     | Duncans-MBP.fritz.box| superduper.base.document:362  | Building leaf <class 'superduper.components.datatype.Native'> with identifier: \n",
      "2024-Jun-17 09:11:53.32| INFO     | Duncans-MBP.fritz.box| superduper.base.document:362  | Building leaf <class 'superduper.components.datatype.DataType'> with identifier: my-vec\n",
      "2024-Jun-17 09:11:53.32| INFO     | Duncans-MBP.fritz.box| superduper.base.document:362  | Building leaf <class 'superduper.components.datatype.Native'> with identifier: \n",
      "2024-Jun-17 09:11:53.32| INFO     | Duncans-MBP.fritz.box| superduper.base.document:362  | Building leaf <class 'superduper.components.datatype.DataType'> with identifier: my-vec\n",
      "2024-Jun-17 09:11:53.32| INFO     | Duncans-MBP.fritz.box| superduper.base.document:362  | Building leaf <class 'superduper.components.datatype.Native'> with identifier: \n",
      "2024-Jun-17 09:11:53.32| INFO     | Duncans-MBP.fritz.box| superduper.base.document:362  | Building leaf <class 'superduper.components.datatype.DataType'> with identifier: my-vec\n",
      "2024-Jun-17 09:11:53.32| INFO     | Duncans-MBP.fritz.box| superduper.base.document:362  | Building leaf <class 'superduper.components.datatype.Native'> with identifier: \n",
      "2024-Jun-17 09:11:53.32| INFO     | Duncans-MBP.fritz.box| superduper.base.document:362  | Building leaf <class 'superduper.components.datatype.DataType'> with identifier: my-vec\n",
      "2024-Jun-17 09:11:53.32| INFO     | Duncans-MBP.fritz.box| superduper.base.document:362  | Building leaf <class 'superduper.components.datatype.Native'> with identifier: \n",
      "2024-Jun-17 09:11:53.32| INFO     | Duncans-MBP.fritz.box| superduper.base.document:362  | Building leaf <class 'superduper.components.datatype.DataType'> with identifier: my-vec\n",
      "2024-Jun-17 09:11:53.32| INFO     | Duncans-MBP.fritz.box| superduper.base.document:362  | Building leaf <class 'superduper.components.datatype.Native'> with identifier: \n",
      "2024-Jun-17 09:11:53.33| INFO     | Duncans-MBP.fritz.box| superduper.base.document:362  | Building leaf <class 'superduper.components.datatype.DataType'> with identifier: my-vec\n",
      "2024-Jun-17 09:11:53.33| INFO     | Duncans-MBP.fritz.box| superduper.base.document:362  | Building leaf <class 'superduper.components.datatype.Native'> with identifier: \n",
      "2024-Jun-17 09:11:53.33| INFO     | Duncans-MBP.fritz.box| superduper.base.document:362  | Building leaf <class 'superduper.components.datatype.DataType'> with identifier: my-vec\n",
      "2024-Jun-17 09:11:53.33| INFO     | Duncans-MBP.fritz.box| superduper.base.document:362  | Building leaf <class 'superduper.components.datatype.Native'> with identifier: \n",
      "2024-Jun-17 09:11:53.33| INFO     | Duncans-MBP.fritz.box| superduper.base.document:362  | Building leaf <class 'superduper.components.datatype.DataType'> with identifier: my-vec\n",
      "2024-Jun-17 09:11:53.33| INFO     | Duncans-MBP.fritz.box| superduper.base.document:362  | Building leaf <class 'superduper.components.datatype.Native'> with identifier: \n",
      "2024-Jun-17 09:11:53.33| INFO     | Duncans-MBP.fritz.box| superduper.base.document:362  | Building leaf <class 'superduper.components.datatype.DataType'> with identifier: my-vec\n",
      "2024-Jun-17 09:11:53.33| INFO     | Duncans-MBP.fritz.box| superduper.base.document:362  | Building leaf <class 'superduper.components.datatype.Native'> with identifier: \n",
      "2024-Jun-17 09:11:53.33| INFO     | Duncans-MBP.fritz.box| superduper.base.document:362  | Building leaf <class 'superduper.components.datatype.DataType'> with identifier: my-vec\n",
      "2024-Jun-17 09:11:53.33| INFO     | Duncans-MBP.fritz.box| superduper.base.document:362  | Building leaf <class 'superduper.components.datatype.Native'> with identifier: \n",
      "2024-Jun-17 09:11:53.33| INFO     | Duncans-MBP.fritz.box| superduper.base.document:362  | Building leaf <class 'superduper.components.datatype.DataType'> with identifier: my-vec\n",
      "2024-Jun-17 09:11:53.33| INFO     | Duncans-MBP.fritz.box| superduper.base.document:362  | Building leaf <class 'superduper.components.datatype.Native'> with identifier: \n",
      "2024-Jun-17 09:11:53.33| INFO     | Duncans-MBP.fritz.box| superduper.base.document:362  | Building leaf <class 'superduper.components.datatype.DataType'> with identifier: my-vec\n",
      "2024-Jun-17 09:11:53.33| INFO     | Duncans-MBP.fritz.box| superduper.base.document:362  | Building leaf <class 'superduper.components.datatype.Native'> with identifier: \n",
      "2024-Jun-17 09:11:53.33| INFO     | Duncans-MBP.fritz.box| superduper.base.document:362  | Building leaf <class 'superduper.components.datatype.DataType'> with identifier: my-vec\n",
      "2024-Jun-17 09:11:53.33| INFO     | Duncans-MBP.fritz.box| superduper.base.document:362  | Building leaf <class 'superduper.components.datatype.Native'> with identifier: \n",
      "2024-Jun-17 09:11:53.33| INFO     | Duncans-MBP.fritz.box| superduper.base.document:362  | Building leaf <class 'superduper.components.datatype.DataType'> with identifier: my-vec\n",
      "2024-Jun-17 09:11:53.33| INFO     | Duncans-MBP.fritz.box| superduper.base.document:362  | Building leaf <class 'superduper.components.datatype.Native'> with identifier: \n",
      "2024-Jun-17 09:11:53.33| INFO     | Duncans-MBP.fritz.box| superduper.base.document:362  | Building leaf <class 'superduper.components.datatype.DataType'> with identifier: my-vec\n",
      "2024-Jun-17 09:11:53.33| INFO     | Duncans-MBP.fritz.box| superduper.base.document:362  | Building leaf <class 'superduper.components.datatype.Native'> with identifier: \n",
      "2024-Jun-17 09:11:53.33| INFO     | Duncans-MBP.fritz.box| superduper.base.document:362  | Building leaf <class 'superduper.components.datatype.DataType'> with identifier: my-vec\n",
      "2024-Jun-17 09:11:53.33| INFO     | Duncans-MBP.fritz.box| superduper.base.document:362  | Building leaf <class 'superduper.components.datatype.Native'> with identifier: \n",
      "2024-Jun-17 09:11:53.33| INFO     | Duncans-MBP.fritz.box| superduper.base.document:362  | Building leaf <class 'superduper.components.datatype.DataType'> with identifier: my-vec\n",
      "2024-Jun-17 09:11:53.33| INFO     | Duncans-MBP.fritz.box| superduper.base.document:362  | Building leaf <class 'superduper.components.datatype.Native'> with identifier: \n",
      "2024-Jun-17 09:11:53.33| INFO     | Duncans-MBP.fritz.box| superduper.base.document:362  | Building leaf <class 'superduper.components.datatype.DataType'> with identifier: my-vec\n",
      "2024-Jun-17 09:11:53.33| INFO     | Duncans-MBP.fritz.box| superduper.base.document:362  | Building leaf <class 'superduper.components.datatype.Native'> with identifier: \n",
      "2024-Jun-17 09:11:53.33| INFO     | Duncans-MBP.fritz.box| superduper.base.document:362  | Building leaf <class 'superduper.components.datatype.DataType'> with identifier: my-vec\n",
      "2024-Jun-17 09:11:53.33| INFO     | Duncans-MBP.fritz.box| superduper.base.document:362  | Building leaf <class 'superduper.components.datatype.Native'> with identifier: \n",
      "2024-Jun-17 09:11:53.33| INFO     | Duncans-MBP.fritz.box| superduper.base.document:362  | Building leaf <class 'superduper.components.datatype.DataType'> with identifier: my-vec\n",
      "2024-Jun-17 09:11:53.33| INFO     | Duncans-MBP.fritz.box| superduper.base.document:362  | Building leaf <class 'superduper.components.datatype.Native'> with identifier: \n",
      "2024-Jun-17 09:11:53.33| INFO     | Duncans-MBP.fritz.box| superduper.base.document:362  | Building leaf <class 'superduper.components.datatype.DataType'> with identifier: my-vec\n",
      "2024-Jun-17 09:11:53.33| INFO     | Duncans-MBP.fritz.box| superduper.base.document:362  | Building leaf <class 'superduper.components.datatype.Native'> with identifier: \n",
      "2024-Jun-17 09:11:53.33| INFO     | Duncans-MBP.fritz.box| superduper.base.document:362  | Building leaf <class 'superduper.components.datatype.DataType'> with identifier: my-vec\n",
      "2024-Jun-17 09:11:53.33| INFO     | Duncans-MBP.fritz.box| superduper.base.document:362  | Building leaf <class 'superduper.components.datatype.Native'> with identifier: \n",
      "2024-Jun-17 09:11:53.33| INFO     | Duncans-MBP.fritz.box| superduper.base.document:362  | Building leaf <class 'superduper.components.datatype.DataType'> with identifier: my-vec\n",
      "2024-Jun-17 09:11:53.33| INFO     | Duncans-MBP.fritz.box| superduper.base.document:362  | Building leaf <class 'superduper.components.datatype.Native'> with identifier: \n",
      "2024-Jun-17 09:11:53.33| INFO     | Duncans-MBP.fritz.box| superduper.base.document:362  | Building leaf <class 'superduper.components.datatype.DataType'> with identifier: my-vec\n",
      "2024-Jun-17 09:11:53.33| INFO     | Duncans-MBP.fritz.box| superduper.base.document:362  | Building leaf <class 'superduper.components.datatype.Native'> with identifier: \n",
      "2024-Jun-17 09:11:53.33| INFO     | Duncans-MBP.fritz.box| superduper.base.document:362  | Building leaf <class 'superduper.components.datatype.DataType'> with identifier: my-vec\n",
      "2024-Jun-17 09:11:53.33| INFO     | Duncans-MBP.fritz.box| superduper.base.document:362  | Building leaf <class 'superduper.components.datatype.Native'> with identifier: \n",
      "2024-Jun-17 09:11:53.33| INFO     | Duncans-MBP.fritz.box| superduper.base.document:362  | Building leaf <class 'superduper.components.datatype.DataType'> with identifier: my-vec\n",
      "2024-Jun-17 09:11:53.33| INFO     | Duncans-MBP.fritz.box| superduper.base.document:362  | Building leaf <class 'superduper.components.datatype.Native'> with identifier: \n",
      "2024-Jun-17 09:11:53.33| INFO     | Duncans-MBP.fritz.box| superduper.base.document:362  | Building leaf <class 'superduper.components.datatype.DataType'> with identifier: my-vec\n",
      "2024-Jun-17 09:11:53.33| INFO     | Duncans-MBP.fritz.box| superduper.base.document:362  | Building leaf <class 'superduper.components.datatype.Native'> with identifier: \n",
      "2024-Jun-17 09:11:53.33| INFO     | Duncans-MBP.fritz.box| superduper.base.document:362  | Building leaf <class 'superduper.components.datatype.DataType'> with identifier: my-vec\n",
      "2024-Jun-17 09:11:53.33| INFO     | Duncans-MBP.fritz.box| superduper.base.document:362  | Building leaf <class 'superduper.components.datatype.Native'> with identifier: \n",
      "2024-Jun-17 09:11:53.33| INFO     | Duncans-MBP.fritz.box| superduper.base.document:362  | Building leaf <class 'superduper.components.datatype.DataType'> with identifier: my-vec\n",
      "2024-Jun-17 09:11:53.33| INFO     | Duncans-MBP.fritz.box| superduper.base.document:362  | Building leaf <class 'superduper.components.datatype.Native'> with identifier: \n",
      "2024-Jun-17 09:11:53.34| INFO     | Duncans-MBP.fritz.box| superduper.base.document:362  | Building leaf <class 'superduper.components.datatype.DataType'> with identifier: my-vec\n",
      "2024-Jun-17 09:11:53.34| INFO     | Duncans-MBP.fritz.box| superduper.base.document:362  | Building leaf <class 'superduper.components.datatype.Native'> with identifier: \n",
      "2024-Jun-17 09:11:53.34| INFO     | Duncans-MBP.fritz.box| superduper.base.document:362  | Building leaf <class 'superduper.components.datatype.DataType'> with identifier: my-vec\n",
      "2024-Jun-17 09:11:53.34| INFO     | Duncans-MBP.fritz.box| superduper.base.document:362  | Building leaf <class 'superduper.components.datatype.Native'> with identifier: \n",
      "2024-Jun-17 09:11:53.34| INFO     | Duncans-MBP.fritz.box| superduper.base.document:362  | Building leaf <class 'superduper.components.datatype.DataType'> with identifier: my-vec\n",
      "2024-Jun-17 09:11:53.37| WARNING  | Duncans-MBP.fritz.box| superduper.backends.mongodb.query:296  | Some delete ids are not executed , hence halting execution Please note the partially executed operations wont trigger any `model/listeners` unless CDC is active.\n",
      "2024-Jun-17 09:11:53.37| INFO     | Duncans-MBP.fritz.box| superduper.components.model:752  | Computing chunk 1/4\n"
     ]
    },
    {
     "data": {
      "application/vnd.jupyter.widget-view+json": {
       "model_id": "60d007ded03f4fb081de18479dd4ced4",
       "version_major": 2,
       "version_minor": 0
      },
      "text/plain": [
       "Batches:   0%|          | 0/2 [00:00<?, ?it/s]"
      ]
     },
     "metadata": {},
     "output_type": "display_data"
    },
    {
     "name": "stdout",
     "output_type": "stream",
     "text": [
      "2024-Jun-17 09:11:53.94| INFO     | Duncans-MBP.fritz.box| superduper.components.model:778  | Adding 50 model outputs to `db`\n",
      "2024-Jun-17 09:11:53.94| INFO     | Duncans-MBP.fritz.box| superduper.base.document:362  | Building leaf <class 'superduper.components.datatype.Native'> with identifier: \n",
      "2024-Jun-17 09:11:53.94| INFO     | Duncans-MBP.fritz.box| superduper.base.document:362  | Building leaf <class 'superduper.components.datatype.DataType'> with identifier: my-vec\n",
      "2024-Jun-17 09:11:53.94| INFO     | Duncans-MBP.fritz.box| superduper.base.document:362  | Building leaf <class 'superduper.components.datatype.Native'> with identifier: \n",
      "2024-Jun-17 09:11:53.94| INFO     | Duncans-MBP.fritz.box| superduper.base.document:362  | Building leaf <class 'superduper.components.datatype.DataType'> with identifier: my-vec\n",
      "2024-Jun-17 09:11:53.94| INFO     | Duncans-MBP.fritz.box| superduper.base.document:362  | Building leaf <class 'superduper.components.datatype.Native'> with identifier: \n",
      "2024-Jun-17 09:11:53.94| INFO     | Duncans-MBP.fritz.box| superduper.base.document:362  | Building leaf <class 'superduper.components.datatype.DataType'> with identifier: my-vec\n",
      "2024-Jun-17 09:11:53.94| INFO     | Duncans-MBP.fritz.box| superduper.base.document:362  | Building leaf <class 'superduper.components.datatype.Native'> with identifier: \n",
      "2024-Jun-17 09:11:53.94| INFO     | Duncans-MBP.fritz.box| superduper.base.document:362  | Building leaf <class 'superduper.components.datatype.DataType'> with identifier: my-vec\n",
      "2024-Jun-17 09:11:53.94| INFO     | Duncans-MBP.fritz.box| superduper.base.document:362  | Building leaf <class 'superduper.components.datatype.Native'> with identifier: \n",
      "2024-Jun-17 09:11:53.95| INFO     | Duncans-MBP.fritz.box| superduper.base.document:362  | Building leaf <class 'superduper.components.datatype.DataType'> with identifier: my-vec\n",
      "2024-Jun-17 09:11:53.95| INFO     | Duncans-MBP.fritz.box| superduper.base.document:362  | Building leaf <class 'superduper.components.datatype.Native'> with identifier: \n",
      "2024-Jun-17 09:11:53.95| INFO     | Duncans-MBP.fritz.box| superduper.base.document:362  | Building leaf <class 'superduper.components.datatype.DataType'> with identifier: my-vec\n",
      "2024-Jun-17 09:11:53.95| INFO     | Duncans-MBP.fritz.box| superduper.base.document:362  | Building leaf <class 'superduper.components.datatype.Native'> with identifier: \n",
      "2024-Jun-17 09:11:53.95| INFO     | Duncans-MBP.fritz.box| superduper.base.document:362  | Building leaf <class 'superduper.components.datatype.DataType'> with identifier: my-vec\n",
      "2024-Jun-17 09:11:53.95| INFO     | Duncans-MBP.fritz.box| superduper.base.document:362  | Building leaf <class 'superduper.components.datatype.Native'> with identifier: \n",
      "2024-Jun-17 09:11:53.95| INFO     | Duncans-MBP.fritz.box| superduper.base.document:362  | Building leaf <class 'superduper.components.datatype.DataType'> with identifier: my-vec\n",
      "2024-Jun-17 09:11:53.95| INFO     | Duncans-MBP.fritz.box| superduper.base.document:362  | Building leaf <class 'superduper.components.datatype.Native'> with identifier: \n",
      "2024-Jun-17 09:11:53.95| INFO     | Duncans-MBP.fritz.box| superduper.base.document:362  | Building leaf <class 'superduper.components.datatype.DataType'> with identifier: my-vec\n",
      "2024-Jun-17 09:11:53.95| INFO     | Duncans-MBP.fritz.box| superduper.base.document:362  | Building leaf <class 'superduper.components.datatype.Native'> with identifier: \n",
      "2024-Jun-17 09:11:53.95| INFO     | Duncans-MBP.fritz.box| superduper.base.document:362  | Building leaf <class 'superduper.components.datatype.DataType'> with identifier: my-vec\n",
      "2024-Jun-17 09:11:53.95| INFO     | Duncans-MBP.fritz.box| superduper.base.document:362  | Building leaf <class 'superduper.components.datatype.Native'> with identifier: \n",
      "2024-Jun-17 09:11:53.95| INFO     | Duncans-MBP.fritz.box| superduper.base.document:362  | Building leaf <class 'superduper.components.datatype.DataType'> with identifier: my-vec\n",
      "2024-Jun-17 09:11:53.95| INFO     | Duncans-MBP.fritz.box| superduper.base.document:362  | Building leaf <class 'superduper.components.datatype.Native'> with identifier: \n",
      "2024-Jun-17 09:11:53.95| INFO     | Duncans-MBP.fritz.box| superduper.base.document:362  | Building leaf <class 'superduper.components.datatype.DataType'> with identifier: my-vec\n",
      "2024-Jun-17 09:11:53.95| INFO     | Duncans-MBP.fritz.box| superduper.base.document:362  | Building leaf <class 'superduper.components.datatype.Native'> with identifier: \n",
      "2024-Jun-17 09:11:53.95| INFO     | Duncans-MBP.fritz.box| superduper.base.document:362  | Building leaf <class 'superduper.components.datatype.DataType'> with identifier: my-vec\n",
      "2024-Jun-17 09:11:53.95| INFO     | Duncans-MBP.fritz.box| superduper.base.document:362  | Building leaf <class 'superduper.components.datatype.Native'> with identifier: \n",
      "2024-Jun-17 09:11:53.95| INFO     | Duncans-MBP.fritz.box| superduper.base.document:362  | Building leaf <class 'superduper.components.datatype.DataType'> with identifier: my-vec\n",
      "2024-Jun-17 09:11:53.95| INFO     | Duncans-MBP.fritz.box| superduper.base.document:362  | Building leaf <class 'superduper.components.datatype.Native'> with identifier: \n",
      "2024-Jun-17 09:11:53.95| INFO     | Duncans-MBP.fritz.box| superduper.base.document:362  | Building leaf <class 'superduper.components.datatype.DataType'> with identifier: my-vec\n",
      "2024-Jun-17 09:11:53.95| INFO     | Duncans-MBP.fritz.box| superduper.base.document:362  | Building leaf <class 'superduper.components.datatype.Native'> with identifier: \n",
      "2024-Jun-17 09:11:53.95| INFO     | Duncans-MBP.fritz.box| superduper.base.document:362  | Building leaf <class 'superduper.components.datatype.DataType'> with identifier: my-vec\n",
      "2024-Jun-17 09:11:53.95| INFO     | Duncans-MBP.fritz.box| superduper.base.document:362  | Building leaf <class 'superduper.components.datatype.Native'> with identifier: \n",
      "2024-Jun-17 09:11:53.95| INFO     | Duncans-MBP.fritz.box| superduper.base.document:362  | Building leaf <class 'superduper.components.datatype.DataType'> with identifier: my-vec\n",
      "2024-Jun-17 09:11:53.95| INFO     | Duncans-MBP.fritz.box| superduper.base.document:362  | Building leaf <class 'superduper.components.datatype.Native'> with identifier: \n",
      "2024-Jun-17 09:11:53.95| INFO     | Duncans-MBP.fritz.box| superduper.base.document:362  | Building leaf <class 'superduper.components.datatype.DataType'> with identifier: my-vec\n",
      "2024-Jun-17 09:11:53.95| INFO     | Duncans-MBP.fritz.box| superduper.base.document:362  | Building leaf <class 'superduper.components.datatype.Native'> with identifier: \n",
      "2024-Jun-17 09:11:53.95| INFO     | Duncans-MBP.fritz.box| superduper.base.document:362  | Building leaf <class 'superduper.components.datatype.DataType'> with identifier: my-vec\n",
      "2024-Jun-17 09:11:53.95| INFO     | Duncans-MBP.fritz.box| superduper.base.document:362  | Building leaf <class 'superduper.components.datatype.Native'> with identifier: \n",
      "2024-Jun-17 09:11:53.95| INFO     | Duncans-MBP.fritz.box| superduper.base.document:362  | Building leaf <class 'superduper.components.datatype.DataType'> with identifier: my-vec\n",
      "2024-Jun-17 09:11:53.95| INFO     | Duncans-MBP.fritz.box| superduper.base.document:362  | Building leaf <class 'superduper.components.datatype.Native'> with identifier: \n",
      "2024-Jun-17 09:11:53.95| INFO     | Duncans-MBP.fritz.box| superduper.base.document:362  | Building leaf <class 'superduper.components.datatype.DataType'> with identifier: my-vec\n",
      "2024-Jun-17 09:11:53.95| INFO     | Duncans-MBP.fritz.box| superduper.base.document:362  | Building leaf <class 'superduper.components.datatype.Native'> with identifier: \n",
      "2024-Jun-17 09:11:53.95| INFO     | Duncans-MBP.fritz.box| superduper.base.document:362  | Building leaf <class 'superduper.components.datatype.DataType'> with identifier: my-vec\n",
      "2024-Jun-17 09:11:53.95| INFO     | Duncans-MBP.fritz.box| superduper.base.document:362  | Building leaf <class 'superduper.components.datatype.Native'> with identifier: \n",
      "2024-Jun-17 09:11:53.95| INFO     | Duncans-MBP.fritz.box| superduper.base.document:362  | Building leaf <class 'superduper.components.datatype.DataType'> with identifier: my-vec\n",
      "2024-Jun-17 09:11:53.95| INFO     | Duncans-MBP.fritz.box| superduper.base.document:362  | Building leaf <class 'superduper.components.datatype.Native'> with identifier: \n",
      "2024-Jun-17 09:11:53.95| INFO     | Duncans-MBP.fritz.box| superduper.base.document:362  | Building leaf <class 'superduper.components.datatype.DataType'> with identifier: my-vec\n",
      "2024-Jun-17 09:11:53.95| INFO     | Duncans-MBP.fritz.box| superduper.base.document:362  | Building leaf <class 'superduper.components.datatype.Native'> with identifier: \n",
      "2024-Jun-17 09:11:53.95| INFO     | Duncans-MBP.fritz.box| superduper.base.document:362  | Building leaf <class 'superduper.components.datatype.DataType'> with identifier: my-vec\n",
      "2024-Jun-17 09:11:53.95| INFO     | Duncans-MBP.fritz.box| superduper.base.document:362  | Building leaf <class 'superduper.components.datatype.Native'> with identifier: \n",
      "2024-Jun-17 09:11:53.95| INFO     | Duncans-MBP.fritz.box| superduper.base.document:362  | Building leaf <class 'superduper.components.datatype.DataType'> with identifier: my-vec\n",
      "2024-Jun-17 09:11:53.95| INFO     | Duncans-MBP.fritz.box| superduper.base.document:362  | Building leaf <class 'superduper.components.datatype.Native'> with identifier: \n",
      "2024-Jun-17 09:11:53.95| INFO     | Duncans-MBP.fritz.box| superduper.base.document:362  | Building leaf <class 'superduper.components.datatype.DataType'> with identifier: my-vec\n",
      "2024-Jun-17 09:11:53.95| INFO     | Duncans-MBP.fritz.box| superduper.base.document:362  | Building leaf <class 'superduper.components.datatype.Native'> with identifier: \n",
      "2024-Jun-17 09:11:53.96| INFO     | Duncans-MBP.fritz.box| superduper.base.document:362  | Building leaf <class 'superduper.components.datatype.DataType'> with identifier: my-vec\n",
      "2024-Jun-17 09:11:53.96| INFO     | Duncans-MBP.fritz.box| superduper.base.document:362  | Building leaf <class 'superduper.components.datatype.Native'> with identifier: \n",
      "2024-Jun-17 09:11:53.96| INFO     | Duncans-MBP.fritz.box| superduper.base.document:362  | Building leaf <class 'superduper.components.datatype.DataType'> with identifier: my-vec\n",
      "2024-Jun-17 09:11:53.96| INFO     | Duncans-MBP.fritz.box| superduper.base.document:362  | Building leaf <class 'superduper.components.datatype.Native'> with identifier: \n",
      "2024-Jun-17 09:11:53.96| INFO     | Duncans-MBP.fritz.box| superduper.base.document:362  | Building leaf <class 'superduper.components.datatype.DataType'> with identifier: my-vec\n",
      "2024-Jun-17 09:11:53.96| INFO     | Duncans-MBP.fritz.box| superduper.base.document:362  | Building leaf <class 'superduper.components.datatype.Native'> with identifier: \n",
      "2024-Jun-17 09:11:53.96| INFO     | Duncans-MBP.fritz.box| superduper.base.document:362  | Building leaf <class 'superduper.components.datatype.DataType'> with identifier: my-vec\n",
      "2024-Jun-17 09:11:53.96| INFO     | Duncans-MBP.fritz.box| superduper.base.document:362  | Building leaf <class 'superduper.components.datatype.Native'> with identifier: \n",
      "2024-Jun-17 09:11:53.96| INFO     | Duncans-MBP.fritz.box| superduper.base.document:362  | Building leaf <class 'superduper.components.datatype.DataType'> with identifier: my-vec\n",
      "2024-Jun-17 09:11:53.96| INFO     | Duncans-MBP.fritz.box| superduper.base.document:362  | Building leaf <class 'superduper.components.datatype.Native'> with identifier: \n",
      "2024-Jun-17 09:11:53.96| INFO     | Duncans-MBP.fritz.box| superduper.base.document:362  | Building leaf <class 'superduper.components.datatype.DataType'> with identifier: my-vec\n",
      "2024-Jun-17 09:11:53.96| INFO     | Duncans-MBP.fritz.box| superduper.base.document:362  | Building leaf <class 'superduper.components.datatype.Native'> with identifier: \n",
      "2024-Jun-17 09:11:53.96| INFO     | Duncans-MBP.fritz.box| superduper.base.document:362  | Building leaf <class 'superduper.components.datatype.DataType'> with identifier: my-vec\n",
      "2024-Jun-17 09:11:53.96| INFO     | Duncans-MBP.fritz.box| superduper.base.document:362  | Building leaf <class 'superduper.components.datatype.Native'> with identifier: \n",
      "2024-Jun-17 09:11:53.96| INFO     | Duncans-MBP.fritz.box| superduper.base.document:362  | Building leaf <class 'superduper.components.datatype.DataType'> with identifier: my-vec\n",
      "2024-Jun-17 09:11:53.96| INFO     | Duncans-MBP.fritz.box| superduper.base.document:362  | Building leaf <class 'superduper.components.datatype.Native'> with identifier: \n",
      "2024-Jun-17 09:11:53.96| INFO     | Duncans-MBP.fritz.box| superduper.base.document:362  | Building leaf <class 'superduper.components.datatype.DataType'> with identifier: my-vec\n",
      "2024-Jun-17 09:11:53.96| INFO     | Duncans-MBP.fritz.box| superduper.base.document:362  | Building leaf <class 'superduper.components.datatype.Native'> with identifier: \n",
      "2024-Jun-17 09:11:53.96| INFO     | Duncans-MBP.fritz.box| superduper.base.document:362  | Building leaf <class 'superduper.components.datatype.DataType'> with identifier: my-vec\n",
      "2024-Jun-17 09:11:53.96| INFO     | Duncans-MBP.fritz.box| superduper.base.document:362  | Building leaf <class 'superduper.components.datatype.Native'> with identifier: \n",
      "2024-Jun-17 09:11:53.96| INFO     | Duncans-MBP.fritz.box| superduper.base.document:362  | Building leaf <class 'superduper.components.datatype.DataType'> with identifier: my-vec\n",
      "2024-Jun-17 09:11:53.96| INFO     | Duncans-MBP.fritz.box| superduper.base.document:362  | Building leaf <class 'superduper.components.datatype.Native'> with identifier: \n",
      "2024-Jun-17 09:11:53.96| INFO     | Duncans-MBP.fritz.box| superduper.base.document:362  | Building leaf <class 'superduper.components.datatype.DataType'> with identifier: my-vec\n",
      "2024-Jun-17 09:11:53.96| INFO     | Duncans-MBP.fritz.box| superduper.base.document:362  | Building leaf <class 'superduper.components.datatype.Native'> with identifier: \n",
      "2024-Jun-17 09:11:53.96| INFO     | Duncans-MBP.fritz.box| superduper.base.document:362  | Building leaf <class 'superduper.components.datatype.DataType'> with identifier: my-vec\n",
      "2024-Jun-17 09:11:53.96| INFO     | Duncans-MBP.fritz.box| superduper.base.document:362  | Building leaf <class 'superduper.components.datatype.Native'> with identifier: \n",
      "2024-Jun-17 09:11:53.96| INFO     | Duncans-MBP.fritz.box| superduper.base.document:362  | Building leaf <class 'superduper.components.datatype.DataType'> with identifier: my-vec\n",
      "2024-Jun-17 09:11:53.96| INFO     | Duncans-MBP.fritz.box| superduper.base.document:362  | Building leaf <class 'superduper.components.datatype.Native'> with identifier: \n",
      "2024-Jun-17 09:11:53.96| INFO     | Duncans-MBP.fritz.box| superduper.base.document:362  | Building leaf <class 'superduper.components.datatype.DataType'> with identifier: my-vec\n",
      "2024-Jun-17 09:11:53.96| INFO     | Duncans-MBP.fritz.box| superduper.base.document:362  | Building leaf <class 'superduper.components.datatype.Native'> with identifier: \n",
      "2024-Jun-17 09:11:53.96| INFO     | Duncans-MBP.fritz.box| superduper.base.document:362  | Building leaf <class 'superduper.components.datatype.DataType'> with identifier: my-vec\n",
      "2024-Jun-17 09:11:53.96| INFO     | Duncans-MBP.fritz.box| superduper.base.document:362  | Building leaf <class 'superduper.components.datatype.Native'> with identifier: \n",
      "2024-Jun-17 09:11:53.96| INFO     | Duncans-MBP.fritz.box| superduper.base.document:362  | Building leaf <class 'superduper.components.datatype.DataType'> with identifier: my-vec\n",
      "2024-Jun-17 09:11:53.96| INFO     | Duncans-MBP.fritz.box| superduper.base.document:362  | Building leaf <class 'superduper.components.datatype.Native'> with identifier: \n",
      "2024-Jun-17 09:11:53.96| INFO     | Duncans-MBP.fritz.box| superduper.base.document:362  | Building leaf <class 'superduper.components.datatype.DataType'> with identifier: my-vec\n",
      "2024-Jun-17 09:11:53.96| INFO     | Duncans-MBP.fritz.box| superduper.base.document:362  | Building leaf <class 'superduper.components.datatype.Native'> with identifier: \n",
      "2024-Jun-17 09:11:53.96| INFO     | Duncans-MBP.fritz.box| superduper.base.document:362  | Building leaf <class 'superduper.components.datatype.DataType'> with identifier: my-vec\n",
      "2024-Jun-17 09:11:53.96| INFO     | Duncans-MBP.fritz.box| superduper.base.document:362  | Building leaf <class 'superduper.components.datatype.Native'> with identifier: \n",
      "2024-Jun-17 09:11:53.96| INFO     | Duncans-MBP.fritz.box| superduper.base.document:362  | Building leaf <class 'superduper.components.datatype.DataType'> with identifier: my-vec\n",
      "2024-Jun-17 09:11:53.96| INFO     | Duncans-MBP.fritz.box| superduper.base.document:362  | Building leaf <class 'superduper.components.datatype.Native'> with identifier: \n",
      "2024-Jun-17 09:11:53.96| INFO     | Duncans-MBP.fritz.box| superduper.base.document:362  | Building leaf <class 'superduper.components.datatype.DataType'> with identifier: my-vec\n",
      "2024-Jun-17 09:11:53.96| INFO     | Duncans-MBP.fritz.box| superduper.base.document:362  | Building leaf <class 'superduper.components.datatype.Native'> with identifier: \n",
      "2024-Jun-17 09:11:53.96| INFO     | Duncans-MBP.fritz.box| superduper.base.document:362  | Building leaf <class 'superduper.components.datatype.DataType'> with identifier: my-vec\n",
      "2024-Jun-17 09:11:53.96| INFO     | Duncans-MBP.fritz.box| superduper.base.document:362  | Building leaf <class 'superduper.components.datatype.Native'> with identifier: \n",
      "2024-Jun-17 09:11:53.96| INFO     | Duncans-MBP.fritz.box| superduper.base.document:362  | Building leaf <class 'superduper.components.datatype.DataType'> with identifier: my-vec\n",
      "2024-Jun-17 09:11:54.00| WARNING  | Duncans-MBP.fritz.box| superduper.backends.mongodb.query:296  | Some delete ids are not executed , hence halting execution Please note the partially executed operations wont trigger any `model/listeners` unless CDC is active.\n",
      "2024-Jun-17 09:11:54.00| INFO     | Duncans-MBP.fritz.box| superduper.components.model:752  | Computing chunk 2/4\n"
     ]
    },
    {
     "data": {
      "application/vnd.jupyter.widget-view+json": {
       "model_id": "e87a07d5aefc4186845f42c89d3b6e7e",
       "version_major": 2,
       "version_minor": 0
      },
      "text/plain": [
       "Batches:   0%|          | 0/2 [00:00<?, ?it/s]"
      ]
     },
     "metadata": {},
     "output_type": "display_data"
    },
    {
     "name": "stdout",
     "output_type": "stream",
     "text": [
      "2024-Jun-17 09:11:54.57| INFO     | Duncans-MBP.fritz.box| superduper.components.model:778  | Adding 50 model outputs to `db`\n",
      "2024-Jun-17 09:11:54.57| INFO     | Duncans-MBP.fritz.box| superduper.base.document:362  | Building leaf <class 'superduper.components.datatype.Native'> with identifier: \n",
      "2024-Jun-17 09:11:54.57| INFO     | Duncans-MBP.fritz.box| superduper.base.document:362  | Building leaf <class 'superduper.components.datatype.DataType'> with identifier: my-vec\n",
      "2024-Jun-17 09:11:54.57| INFO     | Duncans-MBP.fritz.box| superduper.base.document:362  | Building leaf <class 'superduper.components.datatype.Native'> with identifier: \n",
      "2024-Jun-17 09:11:54.57| INFO     | Duncans-MBP.fritz.box| superduper.base.document:362  | Building leaf <class 'superduper.components.datatype.DataType'> with identifier: my-vec\n",
      "2024-Jun-17 09:11:54.58| INFO     | Duncans-MBP.fritz.box| superduper.base.document:362  | Building leaf <class 'superduper.components.datatype.Native'> with identifier: \n",
      "2024-Jun-17 09:11:54.58| INFO     | Duncans-MBP.fritz.box| superduper.base.document:362  | Building leaf <class 'superduper.components.datatype.DataType'> with identifier: my-vec\n",
      "2024-Jun-17 09:11:54.58| INFO     | Duncans-MBP.fritz.box| superduper.base.document:362  | Building leaf <class 'superduper.components.datatype.Native'> with identifier: \n",
      "2024-Jun-17 09:11:54.58| INFO     | Duncans-MBP.fritz.box| superduper.base.document:362  | Building leaf <class 'superduper.components.datatype.DataType'> with identifier: my-vec\n",
      "2024-Jun-17 09:11:54.58| INFO     | Duncans-MBP.fritz.box| superduper.base.document:362  | Building leaf <class 'superduper.components.datatype.Native'> with identifier: \n",
      "2024-Jun-17 09:11:54.58| INFO     | Duncans-MBP.fritz.box| superduper.base.document:362  | Building leaf <class 'superduper.components.datatype.DataType'> with identifier: my-vec\n",
      "2024-Jun-17 09:11:54.58| INFO     | Duncans-MBP.fritz.box| superduper.base.document:362  | Building leaf <class 'superduper.components.datatype.Native'> with identifier: \n",
      "2024-Jun-17 09:11:54.58| INFO     | Duncans-MBP.fritz.box| superduper.base.document:362  | Building leaf <class 'superduper.components.datatype.DataType'> with identifier: my-vec\n",
      "2024-Jun-17 09:11:54.58| INFO     | Duncans-MBP.fritz.box| superduper.base.document:362  | Building leaf <class 'superduper.components.datatype.Native'> with identifier: \n",
      "2024-Jun-17 09:11:54.58| INFO     | Duncans-MBP.fritz.box| superduper.base.document:362  | Building leaf <class 'superduper.components.datatype.DataType'> with identifier: my-vec\n",
      "2024-Jun-17 09:11:54.58| INFO     | Duncans-MBP.fritz.box| superduper.base.document:362  | Building leaf <class 'superduper.components.datatype.Native'> with identifier: \n",
      "2024-Jun-17 09:11:54.58| INFO     | Duncans-MBP.fritz.box| superduper.base.document:362  | Building leaf <class 'superduper.components.datatype.DataType'> with identifier: my-vec\n",
      "2024-Jun-17 09:11:54.58| INFO     | Duncans-MBP.fritz.box| superduper.base.document:362  | Building leaf <class 'superduper.components.datatype.Native'> with identifier: \n",
      "2024-Jun-17 09:11:54.58| INFO     | Duncans-MBP.fritz.box| superduper.base.document:362  | Building leaf <class 'superduper.components.datatype.DataType'> with identifier: my-vec\n",
      "2024-Jun-17 09:11:54.58| INFO     | Duncans-MBP.fritz.box| superduper.base.document:362  | Building leaf <class 'superduper.components.datatype.Native'> with identifier: \n",
      "2024-Jun-17 09:11:54.58| INFO     | Duncans-MBP.fritz.box| superduper.base.document:362  | Building leaf <class 'superduper.components.datatype.DataType'> with identifier: my-vec\n",
      "2024-Jun-17 09:11:54.58| INFO     | Duncans-MBP.fritz.box| superduper.base.document:362  | Building leaf <class 'superduper.components.datatype.Native'> with identifier: \n",
      "2024-Jun-17 09:11:54.58| INFO     | Duncans-MBP.fritz.box| superduper.base.document:362  | Building leaf <class 'superduper.components.datatype.DataType'> with identifier: my-vec\n",
      "2024-Jun-17 09:11:54.58| INFO     | Duncans-MBP.fritz.box| superduper.base.document:362  | Building leaf <class 'superduper.components.datatype.Native'> with identifier: \n",
      "2024-Jun-17 09:11:54.58| INFO     | Duncans-MBP.fritz.box| superduper.base.document:362  | Building leaf <class 'superduper.components.datatype.DataType'> with identifier: my-vec\n",
      "2024-Jun-17 09:11:54.58| INFO     | Duncans-MBP.fritz.box| superduper.base.document:362  | Building leaf <class 'superduper.components.datatype.Native'> with identifier: \n",
      "2024-Jun-17 09:11:54.58| INFO     | Duncans-MBP.fritz.box| superduper.base.document:362  | Building leaf <class 'superduper.components.datatype.DataType'> with identifier: my-vec\n",
      "2024-Jun-17 09:11:54.58| INFO     | Duncans-MBP.fritz.box| superduper.base.document:362  | Building leaf <class 'superduper.components.datatype.Native'> with identifier: \n",
      "2024-Jun-17 09:11:54.58| INFO     | Duncans-MBP.fritz.box| superduper.base.document:362  | Building leaf <class 'superduper.components.datatype.DataType'> with identifier: my-vec\n",
      "2024-Jun-17 09:11:54.58| INFO     | Duncans-MBP.fritz.box| superduper.base.document:362  | Building leaf <class 'superduper.components.datatype.Native'> with identifier: \n",
      "2024-Jun-17 09:11:54.58| INFO     | Duncans-MBP.fritz.box| superduper.base.document:362  | Building leaf <class 'superduper.components.datatype.DataType'> with identifier: my-vec\n",
      "2024-Jun-17 09:11:54.58| INFO     | Duncans-MBP.fritz.box| superduper.base.document:362  | Building leaf <class 'superduper.components.datatype.Native'> with identifier: \n",
      "2024-Jun-17 09:11:54.58| INFO     | Duncans-MBP.fritz.box| superduper.base.document:362  | Building leaf <class 'superduper.components.datatype.DataType'> with identifier: my-vec\n",
      "2024-Jun-17 09:11:54.58| INFO     | Duncans-MBP.fritz.box| superduper.base.document:362  | Building leaf <class 'superduper.components.datatype.Native'> with identifier: \n",
      "2024-Jun-17 09:11:54.58| INFO     | Duncans-MBP.fritz.box| superduper.base.document:362  | Building leaf <class 'superduper.components.datatype.DataType'> with identifier: my-vec\n",
      "2024-Jun-17 09:11:54.58| INFO     | Duncans-MBP.fritz.box| superduper.base.document:362  | Building leaf <class 'superduper.components.datatype.Native'> with identifier: \n",
      "2024-Jun-17 09:11:54.58| INFO     | Duncans-MBP.fritz.box| superduper.base.document:362  | Building leaf <class 'superduper.components.datatype.DataType'> with identifier: my-vec\n",
      "2024-Jun-17 09:11:54.58| INFO     | Duncans-MBP.fritz.box| superduper.base.document:362  | Building leaf <class 'superduper.components.datatype.Native'> with identifier: \n",
      "2024-Jun-17 09:11:54.58| INFO     | Duncans-MBP.fritz.box| superduper.base.document:362  | Building leaf <class 'superduper.components.datatype.DataType'> with identifier: my-vec\n",
      "2024-Jun-17 09:11:54.58| INFO     | Duncans-MBP.fritz.box| superduper.base.document:362  | Building leaf <class 'superduper.components.datatype.Native'> with identifier: \n",
      "2024-Jun-17 09:11:54.58| INFO     | Duncans-MBP.fritz.box| superduper.base.document:362  | Building leaf <class 'superduper.components.datatype.DataType'> with identifier: my-vec\n",
      "2024-Jun-17 09:11:54.58| INFO     | Duncans-MBP.fritz.box| superduper.base.document:362  | Building leaf <class 'superduper.components.datatype.Native'> with identifier: \n",
      "2024-Jun-17 09:11:54.58| INFO     | Duncans-MBP.fritz.box| superduper.base.document:362  | Building leaf <class 'superduper.components.datatype.DataType'> with identifier: my-vec\n",
      "2024-Jun-17 09:11:54.58| INFO     | Duncans-MBP.fritz.box| superduper.base.document:362  | Building leaf <class 'superduper.components.datatype.Native'> with identifier: \n",
      "2024-Jun-17 09:11:54.58| INFO     | Duncans-MBP.fritz.box| superduper.base.document:362  | Building leaf <class 'superduper.components.datatype.DataType'> with identifier: my-vec\n",
      "2024-Jun-17 09:11:54.58| INFO     | Duncans-MBP.fritz.box| superduper.base.document:362  | Building leaf <class 'superduper.components.datatype.Native'> with identifier: \n",
      "2024-Jun-17 09:11:54.58| INFO     | Duncans-MBP.fritz.box| superduper.base.document:362  | Building leaf <class 'superduper.components.datatype.DataType'> with identifier: my-vec\n",
      "2024-Jun-17 09:11:54.58| INFO     | Duncans-MBP.fritz.box| superduper.base.document:362  | Building leaf <class 'superduper.components.datatype.Native'> with identifier: \n",
      "2024-Jun-17 09:11:54.58| INFO     | Duncans-MBP.fritz.box| superduper.base.document:362  | Building leaf <class 'superduper.components.datatype.DataType'> with identifier: my-vec\n",
      "2024-Jun-17 09:11:54.58| INFO     | Duncans-MBP.fritz.box| superduper.base.document:362  | Building leaf <class 'superduper.components.datatype.Native'> with identifier: \n",
      "2024-Jun-17 09:11:54.58| INFO     | Duncans-MBP.fritz.box| superduper.base.document:362  | Building leaf <class 'superduper.components.datatype.DataType'> with identifier: my-vec\n",
      "2024-Jun-17 09:11:54.59| INFO     | Duncans-MBP.fritz.box| superduper.base.document:362  | Building leaf <class 'superduper.components.datatype.Native'> with identifier: \n",
      "2024-Jun-17 09:11:54.59| INFO     | Duncans-MBP.fritz.box| superduper.base.document:362  | Building leaf <class 'superduper.components.datatype.DataType'> with identifier: my-vec\n",
      "2024-Jun-17 09:11:54.59| INFO     | Duncans-MBP.fritz.box| superduper.base.document:362  | Building leaf <class 'superduper.components.datatype.Native'> with identifier: \n",
      "2024-Jun-17 09:11:54.59| INFO     | Duncans-MBP.fritz.box| superduper.base.document:362  | Building leaf <class 'superduper.components.datatype.DataType'> with identifier: my-vec\n",
      "2024-Jun-17 09:11:54.59| INFO     | Duncans-MBP.fritz.box| superduper.base.document:362  | Building leaf <class 'superduper.components.datatype.Native'> with identifier: \n",
      "2024-Jun-17 09:11:54.59| INFO     | Duncans-MBP.fritz.box| superduper.base.document:362  | Building leaf <class 'superduper.components.datatype.DataType'> with identifier: my-vec\n",
      "2024-Jun-17 09:11:54.59| INFO     | Duncans-MBP.fritz.box| superduper.base.document:362  | Building leaf <class 'superduper.components.datatype.Native'> with identifier: \n",
      "2024-Jun-17 09:11:54.59| INFO     | Duncans-MBP.fritz.box| superduper.base.document:362  | Building leaf <class 'superduper.components.datatype.DataType'> with identifier: my-vec\n",
      "2024-Jun-17 09:11:54.59| INFO     | Duncans-MBP.fritz.box| superduper.base.document:362  | Building leaf <class 'superduper.components.datatype.Native'> with identifier: \n",
      "2024-Jun-17 09:11:54.59| INFO     | Duncans-MBP.fritz.box| superduper.base.document:362  | Building leaf <class 'superduper.components.datatype.DataType'> with identifier: my-vec\n",
      "2024-Jun-17 09:11:54.59| INFO     | Duncans-MBP.fritz.box| superduper.base.document:362  | Building leaf <class 'superduper.components.datatype.Native'> with identifier: \n",
      "2024-Jun-17 09:11:54.59| INFO     | Duncans-MBP.fritz.box| superduper.base.document:362  | Building leaf <class 'superduper.components.datatype.DataType'> with identifier: my-vec\n",
      "2024-Jun-17 09:11:54.59| INFO     | Duncans-MBP.fritz.box| superduper.base.document:362  | Building leaf <class 'superduper.components.datatype.Native'> with identifier: \n",
      "2024-Jun-17 09:11:54.59| INFO     | Duncans-MBP.fritz.box| superduper.base.document:362  | Building leaf <class 'superduper.components.datatype.DataType'> with identifier: my-vec\n",
      "2024-Jun-17 09:11:54.59| INFO     | Duncans-MBP.fritz.box| superduper.base.document:362  | Building leaf <class 'superduper.components.datatype.Native'> with identifier: \n",
      "2024-Jun-17 09:11:54.59| INFO     | Duncans-MBP.fritz.box| superduper.base.document:362  | Building leaf <class 'superduper.components.datatype.DataType'> with identifier: my-vec\n",
      "2024-Jun-17 09:11:54.59| INFO     | Duncans-MBP.fritz.box| superduper.base.document:362  | Building leaf <class 'superduper.components.datatype.Native'> with identifier: \n",
      "2024-Jun-17 09:11:54.59| INFO     | Duncans-MBP.fritz.box| superduper.base.document:362  | Building leaf <class 'superduper.components.datatype.DataType'> with identifier: my-vec\n",
      "2024-Jun-17 09:11:54.59| INFO     | Duncans-MBP.fritz.box| superduper.base.document:362  | Building leaf <class 'superduper.components.datatype.Native'> with identifier: \n",
      "2024-Jun-17 09:11:54.59| INFO     | Duncans-MBP.fritz.box| superduper.base.document:362  | Building leaf <class 'superduper.components.datatype.DataType'> with identifier: my-vec\n",
      "2024-Jun-17 09:11:54.59| INFO     | Duncans-MBP.fritz.box| superduper.base.document:362  | Building leaf <class 'superduper.components.datatype.Native'> with identifier: \n",
      "2024-Jun-17 09:11:54.59| INFO     | Duncans-MBP.fritz.box| superduper.base.document:362  | Building leaf <class 'superduper.components.datatype.DataType'> with identifier: my-vec\n",
      "2024-Jun-17 09:11:54.59| INFO     | Duncans-MBP.fritz.box| superduper.base.document:362  | Building leaf <class 'superduper.components.datatype.Native'> with identifier: \n",
      "2024-Jun-17 09:11:54.59| INFO     | Duncans-MBP.fritz.box| superduper.base.document:362  | Building leaf <class 'superduper.components.datatype.DataType'> with identifier: my-vec\n",
      "2024-Jun-17 09:11:54.59| INFO     | Duncans-MBP.fritz.box| superduper.base.document:362  | Building leaf <class 'superduper.components.datatype.Native'> with identifier: \n",
      "2024-Jun-17 09:11:54.59| INFO     | Duncans-MBP.fritz.box| superduper.base.document:362  | Building leaf <class 'superduper.components.datatype.DataType'> with identifier: my-vec\n",
      "2024-Jun-17 09:11:54.59| INFO     | Duncans-MBP.fritz.box| superduper.base.document:362  | Building leaf <class 'superduper.components.datatype.Native'> with identifier: \n",
      "2024-Jun-17 09:11:54.59| INFO     | Duncans-MBP.fritz.box| superduper.base.document:362  | Building leaf <class 'superduper.components.datatype.DataType'> with identifier: my-vec\n",
      "2024-Jun-17 09:11:54.59| INFO     | Duncans-MBP.fritz.box| superduper.base.document:362  | Building leaf <class 'superduper.components.datatype.Native'> with identifier: \n",
      "2024-Jun-17 09:11:54.59| INFO     | Duncans-MBP.fritz.box| superduper.base.document:362  | Building leaf <class 'superduper.components.datatype.DataType'> with identifier: my-vec\n",
      "2024-Jun-17 09:11:54.59| INFO     | Duncans-MBP.fritz.box| superduper.base.document:362  | Building leaf <class 'superduper.components.datatype.Native'> with identifier: \n",
      "2024-Jun-17 09:11:54.59| INFO     | Duncans-MBP.fritz.box| superduper.base.document:362  | Building leaf <class 'superduper.components.datatype.DataType'> with identifier: my-vec\n",
      "2024-Jun-17 09:11:54.59| INFO     | Duncans-MBP.fritz.box| superduper.base.document:362  | Building leaf <class 'superduper.components.datatype.Native'> with identifier: \n",
      "2024-Jun-17 09:11:54.59| INFO     | Duncans-MBP.fritz.box| superduper.base.document:362  | Building leaf <class 'superduper.components.datatype.DataType'> with identifier: my-vec\n",
      "2024-Jun-17 09:11:54.59| INFO     | Duncans-MBP.fritz.box| superduper.base.document:362  | Building leaf <class 'superduper.components.datatype.Native'> with identifier: \n",
      "2024-Jun-17 09:11:54.59| INFO     | Duncans-MBP.fritz.box| superduper.base.document:362  | Building leaf <class 'superduper.components.datatype.DataType'> with identifier: my-vec\n",
      "2024-Jun-17 09:11:54.59| INFO     | Duncans-MBP.fritz.box| superduper.base.document:362  | Building leaf <class 'superduper.components.datatype.Native'> with identifier: \n",
      "2024-Jun-17 09:11:54.59| INFO     | Duncans-MBP.fritz.box| superduper.base.document:362  | Building leaf <class 'superduper.components.datatype.DataType'> with identifier: my-vec\n",
      "2024-Jun-17 09:11:54.59| INFO     | Duncans-MBP.fritz.box| superduper.base.document:362  | Building leaf <class 'superduper.components.datatype.Native'> with identifier: \n",
      "2024-Jun-17 09:11:54.59| INFO     | Duncans-MBP.fritz.box| superduper.base.document:362  | Building leaf <class 'superduper.components.datatype.DataType'> with identifier: my-vec\n",
      "2024-Jun-17 09:11:54.59| INFO     | Duncans-MBP.fritz.box| superduper.base.document:362  | Building leaf <class 'superduper.components.datatype.Native'> with identifier: \n",
      "2024-Jun-17 09:11:54.59| INFO     | Duncans-MBP.fritz.box| superduper.base.document:362  | Building leaf <class 'superduper.components.datatype.DataType'> with identifier: my-vec\n",
      "2024-Jun-17 09:11:54.59| INFO     | Duncans-MBP.fritz.box| superduper.base.document:362  | Building leaf <class 'superduper.components.datatype.Native'> with identifier: \n",
      "2024-Jun-17 09:11:54.59| INFO     | Duncans-MBP.fritz.box| superduper.base.document:362  | Building leaf <class 'superduper.components.datatype.DataType'> with identifier: my-vec\n",
      "2024-Jun-17 09:11:54.59| INFO     | Duncans-MBP.fritz.box| superduper.base.document:362  | Building leaf <class 'superduper.components.datatype.Native'> with identifier: \n",
      "2024-Jun-17 09:11:54.59| INFO     | Duncans-MBP.fritz.box| superduper.base.document:362  | Building leaf <class 'superduper.components.datatype.DataType'> with identifier: my-vec\n",
      "2024-Jun-17 09:11:54.59| INFO     | Duncans-MBP.fritz.box| superduper.base.document:362  | Building leaf <class 'superduper.components.datatype.Native'> with identifier: \n",
      "2024-Jun-17 09:11:54.59| INFO     | Duncans-MBP.fritz.box| superduper.base.document:362  | Building leaf <class 'superduper.components.datatype.DataType'> with identifier: my-vec\n",
      "2024-Jun-17 09:11:54.59| INFO     | Duncans-MBP.fritz.box| superduper.base.document:362  | Building leaf <class 'superduper.components.datatype.Native'> with identifier: \n",
      "2024-Jun-17 09:11:54.60| INFO     | Duncans-MBP.fritz.box| superduper.base.document:362  | Building leaf <class 'superduper.components.datatype.DataType'> with identifier: my-vec\n",
      "2024-Jun-17 09:11:54.64| WARNING  | Duncans-MBP.fritz.box| superduper.backends.mongodb.query:296  | Some delete ids are not executed , hence halting execution Please note the partially executed operations wont trigger any `model/listeners` unless CDC is active.\n",
      "2024-Jun-17 09:11:54.64| INFO     | Duncans-MBP.fritz.box| superduper.components.model:752  | Computing chunk 3/4\n"
     ]
    },
    {
     "data": {
      "application/vnd.jupyter.widget-view+json": {
       "model_id": "7352fe6511984feeac86fec55f1bd87b",
       "version_major": 2,
       "version_minor": 0
      },
      "text/plain": [
       "Batches:   0%|          | 0/2 [00:00<?, ?it/s]"
      ]
     },
     "metadata": {},
     "output_type": "display_data"
    },
    {
     "name": "stdout",
     "output_type": "stream",
     "text": [
      "2024-Jun-17 09:11:55.26| INFO     | Duncans-MBP.fritz.box| superduper.components.model:778  | Adding 50 model outputs to `db`\n",
      "2024-Jun-17 09:11:55.26| INFO     | Duncans-MBP.fritz.box| superduper.base.document:362  | Building leaf <class 'superduper.components.datatype.Native'> with identifier: \n",
      "2024-Jun-17 09:11:55.26| INFO     | Duncans-MBP.fritz.box| superduper.base.document:362  | Building leaf <class 'superduper.components.datatype.DataType'> with identifier: my-vec\n",
      "2024-Jun-17 09:11:55.26| INFO     | Duncans-MBP.fritz.box| superduper.base.document:362  | Building leaf <class 'superduper.components.datatype.Native'> with identifier: \n",
      "2024-Jun-17 09:11:55.26| INFO     | Duncans-MBP.fritz.box| superduper.base.document:362  | Building leaf <class 'superduper.components.datatype.DataType'> with identifier: my-vec\n",
      "2024-Jun-17 09:11:55.26| INFO     | Duncans-MBP.fritz.box| superduper.base.document:362  | Building leaf <class 'superduper.components.datatype.Native'> with identifier: \n",
      "2024-Jun-17 09:11:55.26| INFO     | Duncans-MBP.fritz.box| superduper.base.document:362  | Building leaf <class 'superduper.components.datatype.DataType'> with identifier: my-vec\n",
      "2024-Jun-17 09:11:55.26| INFO     | Duncans-MBP.fritz.box| superduper.base.document:362  | Building leaf <class 'superduper.components.datatype.Native'> with identifier: \n",
      "2024-Jun-17 09:11:55.26| INFO     | Duncans-MBP.fritz.box| superduper.base.document:362  | Building leaf <class 'superduper.components.datatype.DataType'> with identifier: my-vec\n",
      "2024-Jun-17 09:11:55.26| INFO     | Duncans-MBP.fritz.box| superduper.base.document:362  | Building leaf <class 'superduper.components.datatype.Native'> with identifier: \n",
      "2024-Jun-17 09:11:55.26| INFO     | Duncans-MBP.fritz.box| superduper.base.document:362  | Building leaf <class 'superduper.components.datatype.DataType'> with identifier: my-vec\n",
      "2024-Jun-17 09:11:55.26| INFO     | Duncans-MBP.fritz.box| superduper.base.document:362  | Building leaf <class 'superduper.components.datatype.Native'> with identifier: \n",
      "2024-Jun-17 09:11:55.26| INFO     | Duncans-MBP.fritz.box| superduper.base.document:362  | Building leaf <class 'superduper.components.datatype.DataType'> with identifier: my-vec\n",
      "2024-Jun-17 09:11:55.26| INFO     | Duncans-MBP.fritz.box| superduper.base.document:362  | Building leaf <class 'superduper.components.datatype.Native'> with identifier: \n",
      "2024-Jun-17 09:11:55.26| INFO     | Duncans-MBP.fritz.box| superduper.base.document:362  | Building leaf <class 'superduper.components.datatype.DataType'> with identifier: my-vec\n",
      "2024-Jun-17 09:11:55.26| INFO     | Duncans-MBP.fritz.box| superduper.base.document:362  | Building leaf <class 'superduper.components.datatype.Native'> with identifier: \n",
      "2024-Jun-17 09:11:55.26| INFO     | Duncans-MBP.fritz.box| superduper.base.document:362  | Building leaf <class 'superduper.components.datatype.DataType'> with identifier: my-vec\n",
      "2024-Jun-17 09:11:55.26| INFO     | Duncans-MBP.fritz.box| superduper.base.document:362  | Building leaf <class 'superduper.components.datatype.Native'> with identifier: \n",
      "2024-Jun-17 09:11:55.26| INFO     | Duncans-MBP.fritz.box| superduper.base.document:362  | Building leaf <class 'superduper.components.datatype.DataType'> with identifier: my-vec\n",
      "2024-Jun-17 09:11:55.26| INFO     | Duncans-MBP.fritz.box| superduper.base.document:362  | Building leaf <class 'superduper.components.datatype.Native'> with identifier: \n",
      "2024-Jun-17 09:11:55.26| INFO     | Duncans-MBP.fritz.box| superduper.base.document:362  | Building leaf <class 'superduper.components.datatype.DataType'> with identifier: my-vec\n",
      "2024-Jun-17 09:11:55.26| INFO     | Duncans-MBP.fritz.box| superduper.base.document:362  | Building leaf <class 'superduper.components.datatype.Native'> with identifier: \n",
      "2024-Jun-17 09:11:55.26| INFO     | Duncans-MBP.fritz.box| superduper.base.document:362  | Building leaf <class 'superduper.components.datatype.DataType'> with identifier: my-vec\n",
      "2024-Jun-17 09:11:55.26| INFO     | Duncans-MBP.fritz.box| superduper.base.document:362  | Building leaf <class 'superduper.components.datatype.Native'> with identifier: \n",
      "2024-Jun-17 09:11:55.26| INFO     | Duncans-MBP.fritz.box| superduper.base.document:362  | Building leaf <class 'superduper.components.datatype.DataType'> with identifier: my-vec\n",
      "2024-Jun-17 09:11:55.26| INFO     | Duncans-MBP.fritz.box| superduper.base.document:362  | Building leaf <class 'superduper.components.datatype.Native'> with identifier: \n",
      "2024-Jun-17 09:11:55.26| INFO     | Duncans-MBP.fritz.box| superduper.base.document:362  | Building leaf <class 'superduper.components.datatype.DataType'> with identifier: my-vec\n",
      "2024-Jun-17 09:11:55.26| INFO     | Duncans-MBP.fritz.box| superduper.base.document:362  | Building leaf <class 'superduper.components.datatype.Native'> with identifier: \n",
      "2024-Jun-17 09:11:55.27| INFO     | Duncans-MBP.fritz.box| superduper.base.document:362  | Building leaf <class 'superduper.components.datatype.DataType'> with identifier: my-vec\n",
      "2024-Jun-17 09:11:55.27| INFO     | Duncans-MBP.fritz.box| superduper.base.document:362  | Building leaf <class 'superduper.components.datatype.Native'> with identifier: \n",
      "2024-Jun-17 09:11:55.27| INFO     | Duncans-MBP.fritz.box| superduper.base.document:362  | Building leaf <class 'superduper.components.datatype.DataType'> with identifier: my-vec\n",
      "2024-Jun-17 09:11:55.27| INFO     | Duncans-MBP.fritz.box| superduper.base.document:362  | Building leaf <class 'superduper.components.datatype.Native'> with identifier: \n",
      "2024-Jun-17 09:11:55.27| INFO     | Duncans-MBP.fritz.box| superduper.base.document:362  | Building leaf <class 'superduper.components.datatype.DataType'> with identifier: my-vec\n",
      "2024-Jun-17 09:11:55.27| INFO     | Duncans-MBP.fritz.box| superduper.base.document:362  | Building leaf <class 'superduper.components.datatype.Native'> with identifier: \n",
      "2024-Jun-17 09:11:55.27| INFO     | Duncans-MBP.fritz.box| superduper.base.document:362  | Building leaf <class 'superduper.components.datatype.DataType'> with identifier: my-vec\n",
      "2024-Jun-17 09:11:55.27| INFO     | Duncans-MBP.fritz.box| superduper.base.document:362  | Building leaf <class 'superduper.components.datatype.Native'> with identifier: \n",
      "2024-Jun-17 09:11:55.27| INFO     | Duncans-MBP.fritz.box| superduper.base.document:362  | Building leaf <class 'superduper.components.datatype.DataType'> with identifier: my-vec\n",
      "2024-Jun-17 09:11:55.27| INFO     | Duncans-MBP.fritz.box| superduper.base.document:362  | Building leaf <class 'superduper.components.datatype.Native'> with identifier: \n",
      "2024-Jun-17 09:11:55.27| INFO     | Duncans-MBP.fritz.box| superduper.base.document:362  | Building leaf <class 'superduper.components.datatype.DataType'> with identifier: my-vec\n",
      "2024-Jun-17 09:11:55.27| INFO     | Duncans-MBP.fritz.box| superduper.base.document:362  | Building leaf <class 'superduper.components.datatype.Native'> with identifier: \n",
      "2024-Jun-17 09:11:55.27| INFO     | Duncans-MBP.fritz.box| superduper.base.document:362  | Building leaf <class 'superduper.components.datatype.DataType'> with identifier: my-vec\n",
      "2024-Jun-17 09:11:55.27| INFO     | Duncans-MBP.fritz.box| superduper.base.document:362  | Building leaf <class 'superduper.components.datatype.Native'> with identifier: \n",
      "2024-Jun-17 09:11:55.27| INFO     | Duncans-MBP.fritz.box| superduper.base.document:362  | Building leaf <class 'superduper.components.datatype.DataType'> with identifier: my-vec\n",
      "2024-Jun-17 09:11:55.27| INFO     | Duncans-MBP.fritz.box| superduper.base.document:362  | Building leaf <class 'superduper.components.datatype.Native'> with identifier: \n",
      "2024-Jun-17 09:11:55.27| INFO     | Duncans-MBP.fritz.box| superduper.base.document:362  | Building leaf <class 'superduper.components.datatype.DataType'> with identifier: my-vec\n",
      "2024-Jun-17 09:11:55.27| INFO     | Duncans-MBP.fritz.box| superduper.base.document:362  | Building leaf <class 'superduper.components.datatype.Native'> with identifier: \n",
      "2024-Jun-17 09:11:55.27| INFO     | Duncans-MBP.fritz.box| superduper.base.document:362  | Building leaf <class 'superduper.components.datatype.DataType'> with identifier: my-vec\n",
      "2024-Jun-17 09:11:55.27| INFO     | Duncans-MBP.fritz.box| superduper.base.document:362  | Building leaf <class 'superduper.components.datatype.Native'> with identifier: \n",
      "2024-Jun-17 09:11:55.27| INFO     | Duncans-MBP.fritz.box| superduper.base.document:362  | Building leaf <class 'superduper.components.datatype.DataType'> with identifier: my-vec\n",
      "2024-Jun-17 09:11:55.27| INFO     | Duncans-MBP.fritz.box| superduper.base.document:362  | Building leaf <class 'superduper.components.datatype.Native'> with identifier: \n",
      "2024-Jun-17 09:11:55.27| INFO     | Duncans-MBP.fritz.box| superduper.base.document:362  | Building leaf <class 'superduper.components.datatype.DataType'> with identifier: my-vec\n",
      "2024-Jun-17 09:11:55.27| INFO     | Duncans-MBP.fritz.box| superduper.base.document:362  | Building leaf <class 'superduper.components.datatype.Native'> with identifier: \n",
      "2024-Jun-17 09:11:55.27| INFO     | Duncans-MBP.fritz.box| superduper.base.document:362  | Building leaf <class 'superduper.components.datatype.DataType'> with identifier: my-vec\n",
      "2024-Jun-17 09:11:55.27| INFO     | Duncans-MBP.fritz.box| superduper.base.document:362  | Building leaf <class 'superduper.components.datatype.Native'> with identifier: \n",
      "2024-Jun-17 09:11:55.27| INFO     | Duncans-MBP.fritz.box| superduper.base.document:362  | Building leaf <class 'superduper.components.datatype.DataType'> with identifier: my-vec\n",
      "2024-Jun-17 09:11:55.27| INFO     | Duncans-MBP.fritz.box| superduper.base.document:362  | Building leaf <class 'superduper.components.datatype.Native'> with identifier: \n",
      "2024-Jun-17 09:11:55.27| INFO     | Duncans-MBP.fritz.box| superduper.base.document:362  | Building leaf <class 'superduper.components.datatype.DataType'> with identifier: my-vec\n",
      "2024-Jun-17 09:11:55.27| INFO     | Duncans-MBP.fritz.box| superduper.base.document:362  | Building leaf <class 'superduper.components.datatype.Native'> with identifier: \n",
      "2024-Jun-17 09:11:55.27| INFO     | Duncans-MBP.fritz.box| superduper.base.document:362  | Building leaf <class 'superduper.components.datatype.DataType'> with identifier: my-vec\n",
      "2024-Jun-17 09:11:55.27| INFO     | Duncans-MBP.fritz.box| superduper.base.document:362  | Building leaf <class 'superduper.components.datatype.Native'> with identifier: \n",
      "2024-Jun-17 09:11:55.27| INFO     | Duncans-MBP.fritz.box| superduper.base.document:362  | Building leaf <class 'superduper.components.datatype.DataType'> with identifier: my-vec\n",
      "2024-Jun-17 09:11:55.27| INFO     | Duncans-MBP.fritz.box| superduper.base.document:362  | Building leaf <class 'superduper.components.datatype.Native'> with identifier: \n",
      "2024-Jun-17 09:11:55.27| INFO     | Duncans-MBP.fritz.box| superduper.base.document:362  | Building leaf <class 'superduper.components.datatype.DataType'> with identifier: my-vec\n",
      "2024-Jun-17 09:11:55.27| INFO     | Duncans-MBP.fritz.box| superduper.base.document:362  | Building leaf <class 'superduper.components.datatype.Native'> with identifier: \n",
      "2024-Jun-17 09:11:55.27| INFO     | Duncans-MBP.fritz.box| superduper.base.document:362  | Building leaf <class 'superduper.components.datatype.DataType'> with identifier: my-vec\n",
      "2024-Jun-17 09:11:55.27| INFO     | Duncans-MBP.fritz.box| superduper.base.document:362  | Building leaf <class 'superduper.components.datatype.Native'> with identifier: \n",
      "2024-Jun-17 09:11:55.27| INFO     | Duncans-MBP.fritz.box| superduper.base.document:362  | Building leaf <class 'superduper.components.datatype.DataType'> with identifier: my-vec\n",
      "2024-Jun-17 09:11:55.27| INFO     | Duncans-MBP.fritz.box| superduper.base.document:362  | Building leaf <class 'superduper.components.datatype.Native'> with identifier: \n",
      "2024-Jun-17 09:11:55.27| INFO     | Duncans-MBP.fritz.box| superduper.base.document:362  | Building leaf <class 'superduper.components.datatype.DataType'> with identifier: my-vec\n",
      "2024-Jun-17 09:11:55.27| INFO     | Duncans-MBP.fritz.box| superduper.base.document:362  | Building leaf <class 'superduper.components.datatype.Native'> with identifier: \n",
      "2024-Jun-17 09:11:55.27| INFO     | Duncans-MBP.fritz.box| superduper.base.document:362  | Building leaf <class 'superduper.components.datatype.DataType'> with identifier: my-vec\n",
      "2024-Jun-17 09:11:55.27| INFO     | Duncans-MBP.fritz.box| superduper.base.document:362  | Building leaf <class 'superduper.components.datatype.Native'> with identifier: \n",
      "2024-Jun-17 09:11:55.27| INFO     | Duncans-MBP.fritz.box| superduper.base.document:362  | Building leaf <class 'superduper.components.datatype.DataType'> with identifier: my-vec\n",
      "2024-Jun-17 09:11:55.27| INFO     | Duncans-MBP.fritz.box| superduper.base.document:362  | Building leaf <class 'superduper.components.datatype.Native'> with identifier: \n",
      "2024-Jun-17 09:11:55.27| INFO     | Duncans-MBP.fritz.box| superduper.base.document:362  | Building leaf <class 'superduper.components.datatype.DataType'> with identifier: my-vec\n",
      "2024-Jun-17 09:11:55.28| INFO     | Duncans-MBP.fritz.box| superduper.base.document:362  | Building leaf <class 'superduper.components.datatype.Native'> with identifier: \n",
      "2024-Jun-17 09:11:55.28| INFO     | Duncans-MBP.fritz.box| superduper.base.document:362  | Building leaf <class 'superduper.components.datatype.DataType'> with identifier: my-vec\n",
      "2024-Jun-17 09:11:55.28| INFO     | Duncans-MBP.fritz.box| superduper.base.document:362  | Building leaf <class 'superduper.components.datatype.Native'> with identifier: \n",
      "2024-Jun-17 09:11:55.28| INFO     | Duncans-MBP.fritz.box| superduper.base.document:362  | Building leaf <class 'superduper.components.datatype.DataType'> with identifier: my-vec\n",
      "2024-Jun-17 09:11:55.28| INFO     | Duncans-MBP.fritz.box| superduper.base.document:362  | Building leaf <class 'superduper.components.datatype.Native'> with identifier: \n",
      "2024-Jun-17 09:11:55.28| INFO     | Duncans-MBP.fritz.box| superduper.base.document:362  | Building leaf <class 'superduper.components.datatype.DataType'> with identifier: my-vec\n",
      "2024-Jun-17 09:11:55.28| INFO     | Duncans-MBP.fritz.box| superduper.base.document:362  | Building leaf <class 'superduper.components.datatype.Native'> with identifier: \n",
      "2024-Jun-17 09:11:55.28| INFO     | Duncans-MBP.fritz.box| superduper.base.document:362  | Building leaf <class 'superduper.components.datatype.DataType'> with identifier: my-vec\n",
      "2024-Jun-17 09:11:55.28| INFO     | Duncans-MBP.fritz.box| superduper.base.document:362  | Building leaf <class 'superduper.components.datatype.Native'> with identifier: \n",
      "2024-Jun-17 09:11:55.28| INFO     | Duncans-MBP.fritz.box| superduper.base.document:362  | Building leaf <class 'superduper.components.datatype.DataType'> with identifier: my-vec\n",
      "2024-Jun-17 09:11:55.28| INFO     | Duncans-MBP.fritz.box| superduper.base.document:362  | Building leaf <class 'superduper.components.datatype.Native'> with identifier: \n",
      "2024-Jun-17 09:11:55.28| INFO     | Duncans-MBP.fritz.box| superduper.base.document:362  | Building leaf <class 'superduper.components.datatype.DataType'> with identifier: my-vec\n",
      "2024-Jun-17 09:11:55.28| INFO     | Duncans-MBP.fritz.box| superduper.base.document:362  | Building leaf <class 'superduper.components.datatype.Native'> with identifier: \n",
      "2024-Jun-17 09:11:55.28| INFO     | Duncans-MBP.fritz.box| superduper.base.document:362  | Building leaf <class 'superduper.components.datatype.DataType'> with identifier: my-vec\n",
      "2024-Jun-17 09:11:55.28| INFO     | Duncans-MBP.fritz.box| superduper.base.document:362  | Building leaf <class 'superduper.components.datatype.Native'> with identifier: \n",
      "2024-Jun-17 09:11:55.28| INFO     | Duncans-MBP.fritz.box| superduper.base.document:362  | Building leaf <class 'superduper.components.datatype.DataType'> with identifier: my-vec\n",
      "2024-Jun-17 09:11:55.28| INFO     | Duncans-MBP.fritz.box| superduper.base.document:362  | Building leaf <class 'superduper.components.datatype.Native'> with identifier: \n",
      "2024-Jun-17 09:11:55.28| INFO     | Duncans-MBP.fritz.box| superduper.base.document:362  | Building leaf <class 'superduper.components.datatype.DataType'> with identifier: my-vec\n",
      "2024-Jun-17 09:11:55.28| INFO     | Duncans-MBP.fritz.box| superduper.base.document:362  | Building leaf <class 'superduper.components.datatype.Native'> with identifier: \n",
      "2024-Jun-17 09:11:55.28| INFO     | Duncans-MBP.fritz.box| superduper.base.document:362  | Building leaf <class 'superduper.components.datatype.DataType'> with identifier: my-vec\n",
      "2024-Jun-17 09:11:55.28| INFO     | Duncans-MBP.fritz.box| superduper.base.document:362  | Building leaf <class 'superduper.components.datatype.Native'> with identifier: \n",
      "2024-Jun-17 09:11:55.28| INFO     | Duncans-MBP.fritz.box| superduper.base.document:362  | Building leaf <class 'superduper.components.datatype.DataType'> with identifier: my-vec\n",
      "2024-Jun-17 09:11:55.28| INFO     | Duncans-MBP.fritz.box| superduper.base.document:362  | Building leaf <class 'superduper.components.datatype.Native'> with identifier: \n",
      "2024-Jun-17 09:11:55.28| INFO     | Duncans-MBP.fritz.box| superduper.base.document:362  | Building leaf <class 'superduper.components.datatype.DataType'> with identifier: my-vec\n",
      "2024-Jun-17 09:11:55.28| INFO     | Duncans-MBP.fritz.box| superduper.base.document:362  | Building leaf <class 'superduper.components.datatype.Native'> with identifier: \n",
      "2024-Jun-17 09:11:55.28| INFO     | Duncans-MBP.fritz.box| superduper.base.document:362  | Building leaf <class 'superduper.components.datatype.DataType'> with identifier: my-vec\n",
      "2024-Jun-17 09:11:55.32| WARNING  | Duncans-MBP.fritz.box| superduper.backends.mongodb.query:296  | Some delete ids are not executed , hence halting execution Please note the partially executed operations wont trigger any `model/listeners` unless CDC is active.\n",
      "2024-Jun-17 09:11:55.32| INFO     | Duncans-MBP.fritz.box| superduper.components.model:752  | Computing chunk 4/4\n"
     ]
    },
    {
     "data": {
      "application/vnd.jupyter.widget-view+json": {
       "model_id": "9b333df252ce4e50b288313a07f4349d",
       "version_major": 2,
       "version_minor": 0
      },
      "text/plain": [
       "Batches:   0%|          | 0/1 [00:00<?, ?it/s]"
      ]
     },
     "metadata": {},
     "output_type": "display_data"
    },
    {
     "name": "stdout",
     "output_type": "stream",
     "text": [
      "2024-Jun-17 09:11:55.47| INFO     | Duncans-MBP.fritz.box| superduper.components.model:778  | Adding 10 model outputs to `db`\n",
      "2024-Jun-17 09:11:55.47| INFO     | Duncans-MBP.fritz.box| superduper.base.document:362  | Building leaf <class 'superduper.components.datatype.Native'> with identifier: \n",
      "2024-Jun-17 09:11:55.47| INFO     | Duncans-MBP.fritz.box| superduper.base.document:362  | Building leaf <class 'superduper.components.datatype.DataType'> with identifier: my-vec\n",
      "2024-Jun-17 09:11:55.47| INFO     | Duncans-MBP.fritz.box| superduper.base.document:362  | Building leaf <class 'superduper.components.datatype.Native'> with identifier: \n",
      "2024-Jun-17 09:11:55.47| INFO     | Duncans-MBP.fritz.box| superduper.base.document:362  | Building leaf <class 'superduper.components.datatype.DataType'> with identifier: my-vec\n",
      "2024-Jun-17 09:11:55.47| INFO     | Duncans-MBP.fritz.box| superduper.base.document:362  | Building leaf <class 'superduper.components.datatype.Native'> with identifier: \n",
      "2024-Jun-17 09:11:55.47| INFO     | Duncans-MBP.fritz.box| superduper.base.document:362  | Building leaf <class 'superduper.components.datatype.DataType'> with identifier: my-vec\n",
      "2024-Jun-17 09:11:55.47| INFO     | Duncans-MBP.fritz.box| superduper.base.document:362  | Building leaf <class 'superduper.components.datatype.Native'> with identifier: \n",
      "2024-Jun-17 09:11:55.47| INFO     | Duncans-MBP.fritz.box| superduper.base.document:362  | Building leaf <class 'superduper.components.datatype.DataType'> with identifier: my-vec\n",
      "2024-Jun-17 09:11:55.47| INFO     | Duncans-MBP.fritz.box| superduper.base.document:362  | Building leaf <class 'superduper.components.datatype.Native'> with identifier: \n",
      "2024-Jun-17 09:11:55.47| INFO     | Duncans-MBP.fritz.box| superduper.base.document:362  | Building leaf <class 'superduper.components.datatype.DataType'> with identifier: my-vec\n",
      "2024-Jun-17 09:11:55.47| INFO     | Duncans-MBP.fritz.box| superduper.base.document:362  | Building leaf <class 'superduper.components.datatype.Native'> with identifier: \n",
      "2024-Jun-17 09:11:55.47| INFO     | Duncans-MBP.fritz.box| superduper.base.document:362  | Building leaf <class 'superduper.components.datatype.DataType'> with identifier: my-vec\n",
      "2024-Jun-17 09:11:55.47| INFO     | Duncans-MBP.fritz.box| superduper.base.document:362  | Building leaf <class 'superduper.components.datatype.Native'> with identifier: \n",
      "2024-Jun-17 09:11:55.47| INFO     | Duncans-MBP.fritz.box| superduper.base.document:362  | Building leaf <class 'superduper.components.datatype.DataType'> with identifier: my-vec\n",
      "2024-Jun-17 09:11:55.47| INFO     | Duncans-MBP.fritz.box| superduper.base.document:362  | Building leaf <class 'superduper.components.datatype.Native'> with identifier: \n",
      "2024-Jun-17 09:11:55.47| INFO     | Duncans-MBP.fritz.box| superduper.base.document:362  | Building leaf <class 'superduper.components.datatype.DataType'> with identifier: my-vec\n",
      "2024-Jun-17 09:11:55.47| INFO     | Duncans-MBP.fritz.box| superduper.base.document:362  | Building leaf <class 'superduper.components.datatype.Native'> with identifier: \n",
      "2024-Jun-17 09:11:55.47| INFO     | Duncans-MBP.fritz.box| superduper.base.document:362  | Building leaf <class 'superduper.components.datatype.DataType'> with identifier: my-vec\n",
      "2024-Jun-17 09:11:55.47| INFO     | Duncans-MBP.fritz.box| superduper.base.document:362  | Building leaf <class 'superduper.components.datatype.Native'> with identifier: \n",
      "2024-Jun-17 09:11:55.47| INFO     | Duncans-MBP.fritz.box| superduper.base.document:362  | Building leaf <class 'superduper.components.datatype.DataType'> with identifier: my-vec\n",
      "2024-Jun-17 09:11:55.48| WARNING  | Duncans-MBP.fritz.box| superduper.backends.mongodb.query:296  | Some delete ids are not executed , hence halting execution Please note the partially executed operations wont trigger any `model/listeners` unless CDC is active.\n",
      "2024-Jun-17 09:11:55.48| SUCCESS  | Duncans-MBP.fritz.box| superduper.backends.local.compute:48   | Job submitted on <superduper.backends.local.compute.LocalComputeBackend object at 0x28779e4d0>.  function:<function method_job at 0x10c0a1440> future:30ac7b51-871b-4932-a5ef-63ec3a03de5a\n",
      "2024-Jun-17 09:11:55.48| INFO     | Duncans-MBP.fritz.box| superduper.backends.local.compute:42   | Submitting job. function:<function callable_job at 0x10c0a13a0>\n",
      "2024-Jun-17 09:11:56.62| INFO     | Duncans-MBP.fritz.box| superduper.base.datalayer:170  | Loading vectors of vector-index: 'my-index'\n",
      "2024-Jun-17 09:11:56.62| INFO     | Duncans-MBP.fritz.box| superduper.base.datalayer:180  | docu.find({}, {'_outputs.0246f030-5efd-48ab-9af4-a38140b6fef4': 1, '_builds': 1, '_files': 1, '_blobs': 1, '_source': 1})\n"
     ]
    },
    {
     "name": "stderr",
     "output_type": "stream",
     "text": [
      "Loading vectors into vector-table...: 210it [00:00, 3589.49it/s]"
     ]
    },
    {
     "name": "stdout",
     "output_type": "stream",
     "text": [
      "2024-Jun-17 09:11:56.68| SUCCESS  | Duncans-MBP.fritz.box| superduper.backends.local.compute:48   | Job submitted on <superduper.backends.local.compute.LocalComputeBackend object at 0x28779e4d0>.  function:<function callable_job at 0x10c0a13a0> future:66146223-1232-409f-9ae7-2aa086879bc8\n"
     ]
    },
    {
     "name": "stderr",
     "output_type": "stream",
     "text": [
      "\n"
     ]
    },
    {
     "data": {
      "text/plain": [
       "([<superduper.jobs.job.ComponentJob at 0x2edaeccd0>,\n",
       "  <superduper.jobs.job.FunctionJob at 0x2e981ff90>],\n",
       " VectorIndex(identifier='my-index', uuid='1aab5610-85e9-48b3-b3cc-e44ab97e66e9', indexing_listener=Listener(identifier='my-listener', uuid='0246f030-5efd-48ab-9af4-a38140b6fef4', key='txt', model=SentenceTransformer(preferred_devices=('cuda', 'mps', 'cpu'), device='cpu', identifier='my-embedding', uuid='1472cac2-78bc-4345-ac79-2baf601253a3', signature='*args,**kwargs', datatype=DataType(identifier='my-vec', uuid='706fb6c5-8eeb-44b4-a7ab-9e39b92914f6', encoder=None, decoder=None, info=None, shape=(384,), directory=None, encodable='native', bytes_encoding=<BytesEncoding.BYTES: 'Bytes'>, intermediate_type='bytes', media_type=None), output_schema=None, flatten=False, model_update_kwargs={}, predict_kwargs={'show_progress_bar': True}, compute_kwargs={}, validation=None, metric_values={}, num_workers=0, object=SentenceTransformer(\n",
       "   (0): Transformer({'max_seq_length': 256, 'do_lower_case': False}) with Transformer model: BertModel \n",
       "   (1): Pooling({'word_embedding_dimension': 384, 'pooling_mode_cls_token': False, 'pooling_mode_mean_tokens': True, 'pooling_mode_max_tokens': False, 'pooling_mode_mean_sqrt_len_tokens': False, 'pooling_mode_weightedmean_tokens': False, 'pooling_mode_lasttoken': False, 'include_prompt': True})\n",
       "   (2): Normalize()\n",
       " ), model='all-MiniLM-L6-v2', preprocess=None, postprocess=Code(identifier='postprocess', uuid='6d76d403-c909-4025-8ffd-e9f04db9b29e', code='from superduper import code\\n\\n@code\\ndef postprocess(x):\\n    return x.tolist()\\n')), select=docu.find(), active=True, predict_kwargs={'max_chunk_size': 50}), compatible_listener=None, measure='cosine', metric_values={}))"
      ]
     },
     "execution_count": 7,
     "metadata": {},
     "output_type": "execute_result"
    }
   ],
   "source": [
    "import requests \n",
    "\n",
    "from superduper import Application, Document, VectorIndex, Listener, vector\n",
    "from superduper.ext.sentence_transformers.model import SentenceTransformer\n",
    "from superduper.base.code import Code\n",
    "\n",
    "def postprocess(x):\n",
    "    return x.tolist()\n",
    "\n",
    "datatype = vector(shape=384, identifier=\"my-vec\")\n",
    "    \n",
    "model = SentenceTransformer(\n",
    "    identifier=\"my-embedding\",\n",
    "    datatype=datatype,\n",
    "    predict_kwargs={\"show_progress_bar\": True},\n",
    "    signature=\"*args,**kwargs\",\n",
    "    model=\"all-MiniLM-L6-v2\",      \n",
    "    device=\"cpu\",\n",
    "    postprocess=Code.from_object(postprocess),\n",
    ")\n",
    "\n",
    "listener = Listener(\n",
    "    identifier=\"my-listener\",\n",
    "    model=model,\n",
    "    key='txt',\n",
    "    select=db['docu'].find(),\n",
    "    predict_kwargs={'max_chunk_size': 50},\n",
    ")\n",
    "\n",
    "vector_index = VectorIndex(\n",
    "    identifier=\"my-index\",\n",
    "    indexing_listener=listener,\n",
    "    measure=\"cosine\"\n",
    ")\n",
    "\n",
    "db.apply(vector_index)"
   ]
  },
  {
   "cell_type": "markdown",
   "id": "b82d6525-7216-416f-88a5-8e48beb39045",
   "metadata": {},
   "source": [
    "Now that we've set up a `VectorIndex`, we can connect this index with an LLM in a number of ways.\n",
    "A simple way to do that is with the `SequentialModel`. The first part of the `SequentialModel`\n",
    "executes a query and provides the results to the LLM in the second part. \n",
    "\n",
    "The `RetrievalPrompt` component takes a query with a \"free\" variable as input. \n",
    "This gives users great flexibility with regard to how they fetch the context\n",
    "for their downstream models.\n",
    "\n",
    "We're using OpenAI, but you can use any type of LLm with `superduper`. We have several \n",
    "native integrations (see [here](../ai_integraitons/)) but you can also [bring your own model](../models/bring_your_own_model.md)."
   ]
  },
  {
   "cell_type": "code",
   "execution_count": null,
   "id": "19b5b77b-cdb3-4c76-a5c4-bbc57519badb",
   "metadata": {
    "scrolled": true
   },
   "outputs": [],
   "source": [
    "from superduper.ext.llm.prompter import *\n",
    "from superduper.base.variables import Variable\n",
    "from superduper import Document\n",
    "from superduper.components.model import SequentialModel\n",
    "from superduper.ext.openai import OpenAIChatCompletion\n",
    "\n",
    "q = db['docu'].like(Document({'txt': Variable('prompt')}), vector_index='my-index', n=5).find().limit(10)\n",
    "\n",
    "def get_output(c):\n",
    "    return [r['txt'] for r in c]\n",
    "\n",
    "prompt_template = RetrievalPrompt('my-prompt', select=q, postprocess=Code.from_object(get_output))\n",
    "\n",
    "llm = OpenAIChatCompletion('gpt-3.5-turbo')\n",
    "seq = SequentialModel('rag', models=[prompt_template, llm])\n",
    "\n",
    "db.apply(seq)"
   ]
  },
  {
   "cell_type": "markdown",
   "id": "b75784c5-bfbc-4892-8788-e0f9e576c072",
   "metadata": {},
   "source": [
    "Now we can test the `SequentialModel` with a sample question:"
   ]
  },
  {
   "cell_type": "code",
   "execution_count": null,
   "id": "428caeee-5e82-4268-9bd5-1499fc21667b",
   "metadata": {},
   "outputs": [],
   "source": [
    "seq.predict('Tell be about vector-indexes')"
   ]
  },
  {
   "cell_type": "markdown",
   "id": "dda45127-5cfc-42e9-90cb-3ea987e9281f",
   "metadata": {},
   "source": [
    ":::tip\n",
    "Did you know you can use any tools from the Python ecosystem with `superduper`.\n",
    "That includes `langchain` and `llamaindex` which can be very useful for RAG applications.\n",
    ":::"
   ]
  },
  {
   "cell_type": "code",
   "execution_count": null,
   "id": "314bbc1a-a189-402d-be37-9f340c25734d",
   "metadata": {},
   "outputs": [],
   "source": [
    "from superduper import Application\n",
    "\n",
    "app = Application('rag', components=[vector_index, seq])"
   ]
  },
  {
   "cell_type": "code",
   "execution_count": null,
   "id": "069ec70c-93f2-41aa-b0f8-4d2a154d15f4",
   "metadata": {},
   "outputs": [],
   "source": [
    "app.export('rag')"
   ]
  },
  {
   "cell_type": "code",
   "execution_count": null,
   "id": "1cb33df7-a908-42bb-a825-a00b2a66d1b2",
   "metadata": {},
   "outputs": [],
   "source": [
    "!cat rag/component.json | jq ."
   ]
  }
 ],
 "metadata": {
  "kernelspec": {
   "display_name": "Python 3 (ipykernel)",
   "language": "python",
   "name": "python3"
  },
  "language_info": {
   "codemirror_mode": {
    "name": "ipython",
    "version": 3
   },
   "file_extension": ".py",
   "mimetype": "text/x-python",
   "name": "python",
   "nbconvert_exporter": "python",
   "pygments_lexer": "ipython3",
   "version": "3.11.7"
  }
 },
 "nbformat": 4,
 "nbformat_minor": 5
}
