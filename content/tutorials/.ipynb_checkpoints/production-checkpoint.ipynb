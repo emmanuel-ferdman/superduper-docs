{
 "cells": [
  {
   "cell_type": "markdown",
   "id": "8de41a54-c318-4e2b-b4bb-dc036129bea5",
   "metadata": {},
   "source": [
    "# Production features"
   ]
  },
  {
   "cell_type": "code",
   "execution_count": 1,
   "id": "a10757df-4f8a-42d8-a922-9143708ab5b2",
   "metadata": {},
   "outputs": [
    {
     "name": "stdout",
     "output_type": "stream",
     "text": [
      "New directory: /Users/dodo//superduper\n"
     ]
    }
   ],
   "source": [
    "import os\n",
    "current_directory = os.getcwd()\n",
    "three_levels_up = os.path.abspath(os.path.join(current_directory, '..', '..', '..'))\n",
    "os.chdir(three_levels_up)"
   ]
  },
  {
   "cell_type": "code",
   "execution_count": 2,
   "id": "b4641471-b8d7-448c-8720-0a54333195fd",
   "metadata": {},
   "outputs": [],
   "source": [
    "os.environ['SUPERDUPER_CONFIG'] = 'docs/content/tutorials/config.yaml'"
   ]
  },
  {
   "cell_type": "code",
   "execution_count": null,
   "id": "23b018ae-34ca-4e0f-800d-229f61a28aa4",
   "metadata": {},
   "outputs": [],
   "source": [
    "import json\n",
    "import os\n",
    "\n",
    "from superduper import superduper, Document\n",
    "\n",
    "db = superduper()\n",
    "else:\n",
    "    db = superduper('mongomock://test')"
   ]
  },
  {
   "cell_type": "code",
   "execution_count": null,
   "id": "0fd64c15-bd71-4b5e-a4cb-35d5c4e14032",
   "metadata": {},
   "outputs": [],
   "source": [
    "!curl -O https://superduper-public-demo.s3.amazonaws.com/text.json"
   ]
  }
 ],
 "metadata": {
  "kernelspec": {
   "display_name": "Python 3 (ipykernel)",
   "language": "python",
   "name": "python3"
  },
  "language_info": {
   "codemirror_mode": {
    "name": "ipython",
    "version": 3
   },
   "file_extension": ".py",
   "mimetype": "text/x-python",
   "name": "python",
   "nbconvert_exporter": "python",
   "pygments_lexer": "ipython3",
   "version": "3.11.7"
  }
 },
 "nbformat": 4,
 "nbformat_minor": 5
}
