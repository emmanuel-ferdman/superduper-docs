{
 "cells": [
  {
   "cell_type": "markdown",
   "id": "42fc70e0-4f63-4401-b2a5-f1f62c23b531",
   "metadata": {},
   "source": [
    "# Eager Mode (Alpha) \n",
    "\n",
    "Eager Mode is an interactive way to build superduper applications. \n",
    "\n",
    "Users can input data as usual, continuously call models, and view results.\n",
    "Once the interactive debugging and construction are complete, \n",
    "the corresponding data pipeline can be built directly through `apply`, \n",
    "eliminating the need for direct debugging between AI application models and databases.\n",
    "\n",
    ":::note\n",
    "This feature is in alpha.\n",
    ":::"
   ]
  },
  {
   "cell_type": "markdown",
   "id": "335abe7c-2cbd-47e5-8e40-65f58b0e9755",
   "metadata": {},
   "source": [
    "Connect the database and insert data."
   ]
  },
  {
   "cell_type": "code",
   "execution_count": null,
   "id": "463b8a52-1170-482e-9bcf-27b34a9ebc0f",
   "metadata": {},
   "outputs": [],
   "source": [
    "from superduper import superduper\n",
    "\n",
    "db = superduper('mongomock://test')"
   ]
  },
  {
   "cell_type": "code",
   "execution_count": null,
   "id": "b4de4449-8e98-4329-af96-28810c47e11d",
   "metadata": {},
   "outputs": [],
   "source": [
    "import numpy as np\n",
    "data = [\n",
    "    {\"x\": 1, \"y\": \"2\", \"z\": np.array([1, 2, 3])},\n",
    "    {\"x\": 2, \"y\": \"3\", \"z\": np.array([4, 5, 6])},\n",
    "    {\"x\": 3, \"y\": \"4\", \"z\": np.array([7, 8, 9])},\n",
    "]\n",
    "\n",
    "db[\"documents\"].insert(data).execute()"
   ]
  },
  {
   "cell_type": "markdown",
   "id": "10fd929a-5bc7-484f-b605-77436d79bc29",
   "metadata": {},
   "source": [
    "When using `select.execute(eager_mode=True)`, all returned data will enter eager mode, which can be used for interactive model pipeline construction."
   ]
  },
  {
   "cell_type": "code",
   "execution_count": null,
   "id": "b399c418-28e0-41cb-a00c-d14d6bd3060a",
   "metadata": {},
   "outputs": [],
   "source": [
    "data = list(db[\"documents\"].select().execute(eager_mode=True))[0]\n",
    "data"
   ]
  },
  {
   "cell_type": "markdown",
   "id": "735a3809-e3ba-4367-ba32-44497c5a4908",
   "metadata": {},
   "source": [
    "Define the first model and make predictions."
   ]
  },
  {
   "cell_type": "code",
   "execution_count": null,
   "id": "9e35ea91-034a-47af-ab91-94b4cca996d2",
   "metadata": {},
   "outputs": [],
   "source": [
    "from superduper import ObjectModel\n",
    "def func_a(x):\n",
    "    return {\"x\": x, \"model\": \"a\"}\n",
    "\n",
    "model_a = ObjectModel(identifier=\"a\", object=func_a)\n",
    "output_a = model_a(data[\"x\"])\n",
    "output_a"
   ]
  },
  {
   "cell_type": "markdown",
   "id": "3cedd163-cb40-4772-a013-070d849e0c4a",
   "metadata": {},
   "source": [
    "Define the second model and make predictions."
   ]
  },
  {
   "cell_type": "code",
   "execution_count": null,
   "id": "0723391d-b3e8-4b9d-becc-17b86b28ad55",
   "metadata": {},
   "outputs": [],
   "source": [
    "def func_b(x, y, o_a):\n",
    "    return {\n",
    "        \"x\": x,\n",
    "        \"y\": y,\n",
    "        \"o_a\": o_a,\n",
    "        \"model\": \"b\"\n",
    "    }\n",
    "\n",
    "model_b = ObjectModel(identifier=\"b\", object=func_b)\n",
    "output_b = model_b(data[\"x\"], data[\"y\"], output_a)\n",
    "output_b"
   ]
  },
  {
   "cell_type": "markdown",
   "id": "990ed387-4ee3-4c4a-b88c-0fe4a6228fe1",
   "metadata": {},
   "source": [
    "Define the third model and make predictions."
   ]
  },
  {
   "cell_type": "code",
   "execution_count": null,
   "id": "60099dc1-2316-4952-bee6-2e964f981181",
   "metadata": {},
   "outputs": [],
   "source": [
    "def func_c(x, y, z, o_a, o_b):\n",
    "    return {\n",
    "        \"x\": x,\n",
    "        \"y\": y,\n",
    "        \"z\": z,\n",
    "        \"o_a\": o_a,\n",
    "        \"o_b\": o_b,\n",
    "        \"model\": \"c\",\n",
    "    }\n",
    "\n",
    "model_c = ObjectModel(identifier=\"c\", object=func_c)\n",
    "output_c = model_c(data[\"x\"], data[\"y\"], data[\"z\"], output_a, output_b)\n",
    "output_c"
   ]
  },
  {
   "cell_type": "markdown",
   "id": "656a1e4b-4dc6-47b7-8ce0-946ee2c73843",
   "metadata": {},
   "source": [
    "Apply all models to the data to start monitoring the data and making predictions.\n",
    "When adding a model result, not only the current model but also the recursively dependent upstream models will be added."
   ]
  },
  {
   "cell_type": "code",
   "execution_count": null,
   "id": "ed991c85-bbc0-4c76-95ff-03c0df1e18b4",
   "metadata": {},
   "outputs": [],
   "source": [
    "output_c.apply()"
   ]
  },
  {
   "cell_type": "code",
   "execution_count": null,
   "id": "c26cd251-6fcc-4623-adcd-8102426ae3ee",
   "metadata": {},
   "outputs": [],
   "source": [
    "list(db[\"documents\"].select().outputs(\"a\", \"b\", \"c\").select().execute())"
   ]
  },
  {
   "cell_type": "markdown",
   "id": "0c31a5c8-4432-4ba8-89f4-c6a26d636800",
   "metadata": {},
   "source": [
    "If you want to modify the predict_id of a specific model, \n",
    "you can use `output.predict_id = \"your_predict_id\"` to set it."
   ]
  },
  {
   "cell_type": "code",
   "execution_count": null,
   "id": "9f13fe0d-15b6-46c4-bbf0-297442eccc83",
   "metadata": {},
   "outputs": [],
   "source": [
    "model_predict_id = ObjectModel(identifier=\"c\", object=func_c)\n",
    "output_predict_id = model_predict_id(data[\"x\"], data[\"y\"], data[\"z\"], output_a, output_b)\n",
    "output_predict_id.predict_id = \"new_predict_id\"\n",
    "output_predict_id.apply()"
   ]
  },
  {
   "cell_type": "markdown",
   "id": "abf696b7-b38c-4d09-a798-8cc9b8791c51",
   "metadata": {},
   "source": [
    "View the prediction results of all data in the database."
   ]
  },
  {
   "cell_type": "code",
   "execution_count": null,
   "id": "e9fa0737-e130-4358-8451-4d85c72c40b4",
   "metadata": {},
   "outputs": [],
   "source": [
    "list(db[\"_outputs.new_predict_id\"].select().execute())"
   ]
  },
  {
   "cell_type": "markdown",
   "id": "915d66a2-60b4-41e2-a68c-f177c1f79f0a",
   "metadata": {},
   "source": [
    "If you want to perform if-like conditional operations to route data using different models, you can use `set_condition` to handle it. Currently, only equals and not equals conditions are supported."
   ]
  },
  {
   "cell_type": "code",
   "execution_count": null,
   "id": "8deae23c-11f8-4360-933c-35fad05146e8",
   "metadata": {},
   "outputs": [],
   "source": [
    "model_condition = ObjectModel(identifier=\"condition\", object=func_a)\n",
    "output_condition = model_condition(data[\"x\"])\n",
    "output_condition.set_condition(data[\"x\"] == 1)\n",
    "output_condition.apply()\n",
    "output_condition"
   ]
  },
  {
   "cell_type": "code",
   "execution_count": null,
   "id": "b71fc7a0-aa5e-4715-b99f-0e52b967e4ad",
   "metadata": {},
   "outputs": [],
   "source": [
    "db['documents'].find({}, {'x': 1, '_builds': 1, '_files': 1, '_blobs': 1, '_schema': 1}).filter({'x': 1}).execute()"
   ]
  },
  {
   "cell_type": "code",
   "execution_count": null,
   "id": "9301b62d-4825-48d2-9740-1a44c5346a00",
   "metadata": {},
   "outputs": [],
   "source": [
    "list(db[\"_outputs.condition\"].select().execute())"
   ]
  }
 ],
 "metadata": {
  "kernelspec": {
   "display_name": "Python 3 (ipykernel)",
   "language": "python",
   "name": "python3"
  },
  "language_info": {
   "codemirror_mode": {
    "name": "ipython",
    "version": 3
   },
   "file_extension": ".py",
   "mimetype": "text/x-python",
   "name": "python",
   "nbconvert_exporter": "python",
   "pygments_lexer": "ipython3",
   "version": "3.10.13"
  }
 },
 "nbformat": 4,
 "nbformat_minor": 5
}
